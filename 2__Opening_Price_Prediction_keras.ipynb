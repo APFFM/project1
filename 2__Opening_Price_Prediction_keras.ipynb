{
  "nbformat": 4,
  "nbformat_minor": 0,
  "metadata": {
    "kernelspec": {
      "display_name": "Python 3",
      "language": "python",
      "name": "python3"
    },
    "language_info": {
      "codemirror_mode": {
        "name": "ipython",
        "version": 3
      },
      "file_extension": ".py",
      "mimetype": "text/x-python",
      "name": "python",
      "nbconvert_exporter": "python",
      "pygments_lexer": "ipython3",
      "version": "3.6.10-final"
    },
    "colab": {
      "provenance": [],
      "include_colab_link": true
    }
  },
  "cells": [
    {
      "cell_type": "markdown",
      "metadata": {
        "id": "view-in-github",
        "colab_type": "text"
      },
      "source": [
        "<a href=\"https://colab.research.google.com/github/APFFM/project1/blob/main/2__Opening_Price_Prediction_keras.ipynb\" target=\"_parent\"><img src=\"https://colab.research.google.com/assets/colab-badge.svg\" alt=\"Open In Colab\"/></a>"
      ]
    },
    {
      "cell_type": "markdown",
      "metadata": {
        "id": "esCkMaP7JXew"
      },
      "source": [
        "# Long Short Term Memory(LSTM) based - Stock predicition - # CPU based\n",
        "\n",
        "Aim -to predict the Opening stock price using past 60 day stock price.\n",
        "\n"
      ]
    },
    {
      "cell_type": "code",
      "metadata": {
        "id": "dwSlgPvaIn2D",
        "outputId": "e1c9c06c-8cff-47c3-8bef-5341e788c3a8",
        "colab": {
          "base_uri": "https://localhost:8080/",
          "height": 0
        }
      },
      "source": [
        "import math\n",
        "import numpy as np\n",
        "import pandas as pd\n",
        "import pandas_datareader as web\n",
        "import yfinance as yf\n",
        "#from sklearn.tree import DecisionTreeRegressor\n",
        "#from sklearn.linear_model import LinearRegression\n",
        "#from sklearn.model_selection import train_test_split\n",
        "from sklearn.preprocessing import MinMaxScaler\n",
        "from keras.models import Sequential\n",
        "from keras.layers import Dense, LSTM\n",
        "import matplotlib.pyplot as plt\n",
        "!pip install yfinance\n",
        "\n",
        "\n"
      ],
      "execution_count": 80,
      "outputs": [
        {
          "output_type": "stream",
          "name": "stdout",
          "text": [
            "Requirement already satisfied: yfinance in /usr/local/lib/python3.10/dist-packages (0.2.31)\n",
            "Requirement already satisfied: pandas>=1.3.0 in /usr/local/lib/python3.10/dist-packages (from yfinance) (1.5.3)\n",
            "Requirement already satisfied: numpy>=1.16.5 in /usr/local/lib/python3.10/dist-packages (from yfinance) (1.23.5)\n",
            "Requirement already satisfied: requests>=2.31 in /usr/local/lib/python3.10/dist-packages (from yfinance) (2.31.0)\n",
            "Requirement already satisfied: multitasking>=0.0.7 in /usr/local/lib/python3.10/dist-packages (from yfinance) (0.0.11)\n",
            "Requirement already satisfied: lxml>=4.9.1 in /usr/local/lib/python3.10/dist-packages (from yfinance) (4.9.3)\n",
            "Requirement already satisfied: appdirs>=1.4.4 in /usr/local/lib/python3.10/dist-packages (from yfinance) (1.4.4)\n",
            "Requirement already satisfied: pytz>=2022.5 in /usr/local/lib/python3.10/dist-packages (from yfinance) (2023.3.post1)\n",
            "Requirement already satisfied: frozendict>=2.3.4 in /usr/local/lib/python3.10/dist-packages (from yfinance) (2.3.8)\n",
            "Requirement already satisfied: peewee>=3.16.2 in /usr/local/lib/python3.10/dist-packages (from yfinance) (3.17.0)\n",
            "Requirement already satisfied: beautifulsoup4>=4.11.1 in /usr/local/lib/python3.10/dist-packages (from yfinance) (4.11.2)\n",
            "Requirement already satisfied: html5lib>=1.1 in /usr/local/lib/python3.10/dist-packages (from yfinance) (1.1)\n",
            "Requirement already satisfied: soupsieve>1.2 in /usr/local/lib/python3.10/dist-packages (from beautifulsoup4>=4.11.1->yfinance) (2.5)\n",
            "Requirement already satisfied: six>=1.9 in /usr/local/lib/python3.10/dist-packages (from html5lib>=1.1->yfinance) (1.16.0)\n",
            "Requirement already satisfied: webencodings in /usr/local/lib/python3.10/dist-packages (from html5lib>=1.1->yfinance) (0.5.1)\n",
            "Requirement already satisfied: python-dateutil>=2.8.1 in /usr/local/lib/python3.10/dist-packages (from pandas>=1.3.0->yfinance) (2.8.2)\n",
            "Requirement already satisfied: charset-normalizer<4,>=2 in /usr/local/lib/python3.10/dist-packages (from requests>=2.31->yfinance) (3.3.2)\n",
            "Requirement already satisfied: idna<4,>=2.5 in /usr/local/lib/python3.10/dist-packages (from requests>=2.31->yfinance) (3.4)\n",
            "Requirement already satisfied: urllib3<3,>=1.21.1 in /usr/local/lib/python3.10/dist-packages (from requests>=2.31->yfinance) (2.0.7)\n",
            "Requirement already satisfied: certifi>=2017.4.17 in /usr/local/lib/python3.10/dist-packages (from requests>=2.31->yfinance) (2023.7.22)\n"
          ]
        }
      ]
    },
    {
      "cell_type": "markdown",
      "metadata": {
        "id": "yHHY9g9hObTw"
      },
      "source": [
        "## Data prep"
      ]
    },
    {
      "cell_type": "markdown",
      "metadata": {
        "id": "_T2gT-IgObT2"
      },
      "source": [
        "Works on Yahoo based data. (Doesnt contain Indian stock values)"
      ]
    },
    {
      "cell_type": "code",
      "metadata": {
        "id": "O6xbDvInObUO"
      },
      "source": [
        "ticker = 'AMZN'  #amazon\n",
        "start='2019-01-01'\n",
        "end = '2023-11-15'"
      ],
      "execution_count": 81,
      "outputs": []
    },
    {
      "cell_type": "code",
      "metadata": {
        "id": "ciN6kpMsObT6"
      },
      "source": [
        "ticker = 'TSLA'  #Tesla start=   end = current date"
      ],
      "execution_count": 82,
      "outputs": []
    },
    {
      "cell_type": "code",
      "metadata": {
        "id": "iIpMmvfdObUs"
      },
      "source": [
        "ticker = 'UBER'  #Uber start=   end = current date"
      ],
      "execution_count": 83,
      "outputs": []
    },
    {
      "cell_type": "code",
      "metadata": {
        "id": "bZVF-_oVObU-"
      },
      "source": [
        "ticker = 'AAPL'  #Tesla start=   end = current date"
      ],
      "execution_count": 84,
      "outputs": []
    },
    {
      "cell_type": "markdown",
      "metadata": {
        "id": "xACXUNdXObVR"
      },
      "source": [
        "Change start and end date for collection, as per Company.  (Start date cant be before the company was founded.)\n",
        "\n",
        "Different approaches can be used for Date collection -\n",
        "\n",
        "\n",
        "1.   Pretrain on 20+ year dataset, finetune for local\n",
        "2.   Event specific timings - As in 2020, covid may lead to a new stock trading pattern.\n",
        "\n"
      ]
    },
    {
      "cell_type": "code",
      "source": [
        "# Set the ticker symbol (e.g., 'AAPL' for Apple Inc.) -- NVDA\n",
        "#ticker_symbol = 'AMZN'"
      ],
      "metadata": {
        "id": "Bu3rYHdPhCBY"
      },
      "execution_count": 85,
      "outputs": []
    },
    {
      "cell_type": "code",
      "metadata": {
        "id": "VnjvByqHIn3g",
        "outputId": "f54a5a84-bc5e-4c7d-f788-1baffd208e49",
        "colab": {
          "base_uri": "https://localhost:8080/",
          "height": 0
        }
      },
      "source": [
        "#Get stock quote - we import just the opening and closing Prices of stock, over 20 years duration\n",
        "\n",
        "# df=web.DataReader(ticker, data_source='yahoo', start='2015-01-01', end='2020-05-24')    #YYYY-MM-DD\n",
        "# df\n",
        "\n",
        "# Set the ticker symbol (e.g., 'AAPL' for Apple Inc.) -- NVDA\n",
        "#ticker_symbol = 'NVDA'\n",
        "\n",
        "# Retrieve historical stock price data using the Yahoo Finance API\n",
        "df = yf.download(ticker, start=\"2019-01-01\", end=\"2023-11-15\")\n"
      ],
      "execution_count": 86,
      "outputs": [
        {
          "output_type": "stream",
          "name": "stdout",
          "text": [
            "\r[*********************100%%**********************]  1 of 1 completed\n"
          ]
        }
      ]
    },
    {
      "cell_type": "code",
      "metadata": {
        "id": "NiTAF2f3In4A",
        "outputId": "09de09ef-cf98-40ce-a586-fdc6fbc674f1",
        "colab": {
          "base_uri": "https://localhost:8080/",
          "height": 0
        }
      },
      "source": [
        "df.shape"
      ],
      "execution_count": 87,
      "outputs": [
        {
          "output_type": "execute_result",
          "data": {
            "text/plain": [
              "(1227, 6)"
            ]
          },
          "metadata": {},
          "execution_count": 87
        }
      ]
    },
    {
      "cell_type": "code",
      "metadata": {
        "id": "BQw5ZLyKYDgB",
        "colab": {
          "base_uri": "https://localhost:8080/",
          "height": 0
        },
        "outputId": "e57c0871-2c0b-48f5-eee5-0056335a80d4"
      },
      "source": [
        "#choose plotting style\n",
        "\n",
        "#plt.style.use('fivethirtyeight')\n",
        "#plt.style.use('dark_background')\n",
        "#plt.style.use('ggplot')\n",
        "plt.style.use('seaborn-whitegrid')\n",
        "#plt.style.use('bmh')\n",
        "#plt.style.use('seaborn')"
      ],
      "execution_count": 88,
      "outputs": [
        {
          "output_type": "stream",
          "name": "stderr",
          "text": [
            "<ipython-input-88-09f870d92308>:6: MatplotlibDeprecationWarning: The seaborn styles shipped by Matplotlib are deprecated since 3.6, as they no longer correspond to the styles shipped by seaborn. However, they will remain available as 'seaborn-v0_8-<style>'. Alternatively, directly use the seaborn API instead.\n",
            "  plt.style.use('seaborn-whitegrid')\n"
          ]
        }
      ]
    },
    {
      "cell_type": "code",
      "metadata": {
        "id": "Po2tpyF6In4e",
        "outputId": "f352d673-6cd1-4a03-dfee-c9590ce110e9",
        "colab": {
          "base_uri": "https://localhost:8080/",
          "height": 721
        }
      },
      "source": [
        "plt.figure(figsize=(16,8))\n",
        "plt.title(f'Opening Price{ticker}')\n",
        "plt.plot(df['Open'])\n",
        "plt.xlabel('Date', fontsize=18)\n",
        "plt.ylabel('Open Price {Ticker}USD ($)', fontsize=18)\n",
        "plt.show()"
      ],
      "execution_count": 89,
      "outputs": [
        {
          "output_type": "display_data",
          "data": {
            "text/plain": [
              "<Figure size 1600x800 with 1 Axes>"
            ],
            "image/png": "[encoded data removed]"
          },
          "metadata": {}
        }
      ]
    },
    {
      "cell_type": "code",
      "metadata": {
        "id": "KdEgDzTBIn4-",
        "outputId": "aeba1813-fa10-4f2c-cd8a-05001fb90d1f",
        "colab": {
          "base_uri": "https://localhost:8080/",
          "height": 0
        }
      },
      "source": [
        "data=df.filter(['Open'])\n",
        "\n",
        "#Convert to np array\n",
        "dataset=data.values\n",
        "\n",
        "#Get the number of rows to train the model on\n",
        "#math.ceil to round up\n",
        "\n",
        "training_data_len = math.ceil(len(dataset)*.8)\n",
        "\n",
        "\n",
        "#print(dataset)\n",
        "training_data_len"
      ],
      "execution_count": 90,
      "outputs": [
        {
          "output_type": "execute_result",
          "data": {
            "text/plain": [
              "982"
            ]
          },
          "metadata": {},
          "execution_count": 90
        }
      ]
    },
    {
      "cell_type": "code",
      "metadata": {
        "id": "5pp9vHJxIn5a"
      },
      "source": [
        "#Scale the data\n",
        "\n",
        "scaler = MinMaxScaler(feature_range=(0,1))\n",
        "scaled_data = scaler.fit_transform(dataset)\n",
        "\n"
      ],
      "execution_count": 91,
      "outputs": []
    },
    {
      "cell_type": "code",
      "metadata": {
        "id": "u-TDzVQ7In5s",
        "outputId": "ebbba710-1a42-49c3-e5fd-522a34516d20",
        "colab": {
          "base_uri": "https://localhost:8080/",
          "height": 0
        }
      },
      "source": [
        "#Create training dataset\n",
        "#Create scaled training dataset\n",
        "\n",
        "train_data = scaled_data[0:training_data_len,:]\n",
        "\n",
        "#Split the data into x_train and y_train data set\n",
        "\n",
        "x_train=[]\n",
        "y_train=[]\n",
        "\n",
        "for i in range(60, len(train_data)):\n",
        "    x_train.append(train_data[i-60:i,0])\n",
        "    y_train.append(train_data[i,0])\n",
        "    if i<=60:\n",
        "        print(x_train)\n",
        "        print(y_train)\n",
        "        print()"
      ],
      "execution_count": 92,
      "outputs": [
        {
          "output_type": "stream",
          "name": "stdout",
          "text": [
            "[array([0.01702082, 0.        , 0.00085807, 0.00736373, 0.00870542,\n",
            "       0.01140441, 0.01329215, 0.013885  , 0.01071798, 0.00981311,\n",
            "       0.01419702, 0.01594434, 0.02109271, 0.01939219, 0.01586633,\n",
            "       0.01580393, 0.01794128, 0.01842491, 0.01914257, 0.03006335,\n",
            "       0.03452526, 0.03585137, 0.03655341, 0.04505601, 0.0478486 ,\n",
            "       0.04433835, 0.03901839, 0.04223222, 0.04075012, 0.04276265,\n",
            "       0.04014167, 0.04254423, 0.04014167, 0.04245063, 0.0434023 ,\n",
            "       0.04305907, 0.04708416, 0.04638212, 0.04560206, 0.04733379,\n",
            "       0.04727137, 0.04947113, 0.04986116, 0.04787981, 0.04663172,\n",
            "       0.04109334, 0.04915911, 0.05619521, 0.05970546, 0.06227963,\n",
            "       0.06376175, 0.06524385, 0.06922214, 0.06591469, 0.07182752,\n",
            "       0.0801273 , 0.07415207, 0.07438611, 0.06984618, 0.07015819])]\n",
            "[0.07153109960712276]\n",
            "\n"
          ]
        }
      ]
    },
    {
      "cell_type": "code",
      "metadata": {
        "id": "nSmeb3afIn6E"
      },
      "source": [
        "#convert the x_train and y_train to numpy arrays\n",
        "x_train, y_train = np.array(x_train), np.array(y_train)"
      ],
      "execution_count": 93,
      "outputs": []
    },
    {
      "cell_type": "code",
      "metadata": {
        "id": "1oVwfAu4In6a",
        "outputId": "9838c331-6308-49dd-99ef-1ff34601e37c",
        "colab": {
          "base_uri": "https://localhost:8080/",
          "height": 0
        }
      },
      "source": [
        "#Reshape the data into 3 dimensional\n",
        "x_train = np.reshape(x_train, (x_train.shape[0], x_train.shape[1], 1))\n",
        "x_train.shape"
      ],
      "execution_count": 94,
      "outputs": [
        {
          "output_type": "execute_result",
          "data": {
            "text/plain": [
              "(922, 60, 1)"
            ]
          },
          "metadata": {},
          "execution_count": 94
        }
      ]
    },
    {
      "cell_type": "markdown",
      "metadata": {
        "id": "UNs1SsjiOAAp"
      },
      "source": [
        "## Model training"
      ]
    },
    {
      "cell_type": "code",
      "metadata": {
        "id": "Y6RwuEFPIn6_"
      },
      "source": [
        "#Build LSTM model\n",
        "model=Sequential()\n",
        "#Add first layer to model\n",
        "model.add(LSTM(50, return_sequences=True, input_shape=(x_train.shape[1],1)))\n",
        "#Add second layer to model\n",
        "model.add(LSTM(50, return_sequences=False))\n",
        "#Add Dense Layer to model with 25 neurons\n",
        "model.add(Dense(25))\n",
        "#Add Dense Layer to model with 1 neuron\n",
        "model.add(Dense(1))"
      ],
      "execution_count": 95,
      "outputs": []
    },
    {
      "cell_type": "code",
      "metadata": {
        "id": "ryE2rTOMIn7X"
      },
      "source": [
        "#Compile the model\n",
        "model.compile(optimizer='adam', loss='mean_squared_error')\n"
      ],
      "execution_count": 96,
      "outputs": []
    },
    {
      "cell_type": "code",
      "metadata": {
        "id": "vmAwD6mUIn7r",
        "outputId": "693d3b30-a147-4ce9-a831-693c66a040e3",
        "colab": {
          "base_uri": "https://localhost:8080/",
          "height": 0
        }
      },
      "source": [
        "#Train the model\n",
        "model.fit(x_train, y_train, batch_size=1,epochs=3)"
      ],
      "execution_count": 97,
      "outputs": [
        {
          "output_type": "stream",
          "name": "stdout",
          "text": [
            "Epoch 1/3\n",
            "922/922 [==============================] - 52s 50ms/step - loss: 0.0029\n",
            "Epoch 2/3\n",
            "922/922 [==============================] - 31s 33ms/step - loss: 0.0012\n",
            "Epoch 3/3\n",
            "922/922 [==============================] - 31s 34ms/step - loss: 7.8985e-04\n"
          ]
        },
        {
          "output_type": "execute_result",
          "data": {
            "text/plain": [
              "<keras.src.callbacks.History at 0x7d637bd002e0>"
            ]
          },
          "metadata": {},
          "execution_count": 97
        }
      ]
    },
    {
      "cell_type": "markdown",
      "metadata": {
        "id": "-__xdsJ_OKUg"
      },
      "source": [
        "## Testing and Validating model"
      ]
    },
    {
      "cell_type": "code",
      "metadata": {
        "id": "QlX9uNw3In8R"
      },
      "source": [
        "#Create the test data set\n",
        "#Create a new array containing scaled values\n",
        "\n",
        "test_data=scaled_data[training_data_len-60: , : ]\n",
        "#Create the data sets x_test and y_test\n",
        "\n",
        "x_test=[]\n",
        "y_test=dataset[training_data_len:,:]\n",
        "for i in range(60, len(test_data)):\n",
        "    x_test.append(test_data[i-60:i,0])\n",
        "\n"
      ],
      "execution_count": 98,
      "outputs": []
    },
    {
      "cell_type": "code",
      "metadata": {
        "id": "9GWP-0_DIn8z"
      },
      "source": [
        "#Convert the data to a numpy array\n",
        "\n",
        "x_test=np.array(x_test)\n"
      ],
      "execution_count": 99,
      "outputs": []
    },
    {
      "cell_type": "code",
      "metadata": {
        "id": "0ogsB0ZdIn9J"
      },
      "source": [
        "#Reshape the data to 3d\n",
        "x_test=np.reshape(x_test,(x_test.shape[0], x_test.shape[1], 1))\n"
      ],
      "execution_count": 100,
      "outputs": []
    },
    {
      "cell_type": "code",
      "metadata": {
        "id": "Yud6qyU6In9Z",
        "colab": {
          "base_uri": "https://localhost:8080/",
          "height": 0
        },
        "outputId": "e597ce17-ad0d-4472-83b4-42a969169ff5"
      },
      "source": [
        "#Get the models predicted price values\n",
        "\n",
        "predictions=model.predict(x_test)\n",
        "predictions=scaler.inverse_transform(predictions)\n"
      ],
      "execution_count": 101,
      "outputs": [
        {
          "output_type": "stream",
          "name": "stdout",
          "text": [
            "8/8 [==============================] - 3s 36ms/step\n"
          ]
        }
      ]
    },
    {
      "cell_type": "code",
      "source": [
        "pred = data"
      ],
      "metadata": {
        "id": "Mplx6ie8mZNZ"
      },
      "execution_count": 114,
      "outputs": []
    },
    {
      "cell_type": "code",
      "source": [
        "      pred"
      ],
      "metadata": {
        "colab": {
          "base_uri": "https://localhost:8080/",
          "height": 455
        },
        "id": "s0TmzklbmnD2",
        "outputId": "7feb4e2c-fde6-45f9-d3df-18bd982e4b67"
      },
      "execution_count": 115,
      "outputs": [
        {
          "output_type": "execute_result",
          "data": {
            "text/plain": [
              "                  Open\n",
              "Date                  \n",
              "2019-01-02   38.722500\n",
              "2019-01-03   35.994999\n",
              "2019-01-04   36.132500\n",
              "2019-01-07   37.174999\n",
              "2019-01-08   37.389999\n",
              "...                ...\n",
              "2023-11-08  182.350006\n",
              "2023-11-09  182.960007\n",
              "2023-11-10  183.970001\n",
              "2023-11-13  185.820007\n",
              "2023-11-14  187.699997\n",
              "\n",
              "[1227 rows x 1 columns]"
            ],
            "text/html": [
              "\n",
              "  <div id=\"df-2a353500-e9b3-40c7-93ae-a1fad2c3ceee\" class=\"colab-df-container\">\n",
              "    <div>\n",
              "<style scoped>\n",
              "    .dataframe tbody tr th:only-of-type {\n",
              "        vertical-align: middle;\n",
              "    }\n",
              "\n",
              "    .dataframe tbody tr th {\n",
              "        vertical-align: top;\n",
              "    }\n",
              "\n",
              "    .dataframe thead th {\n",
              "        text-align: right;\n",
              "    }\n",
              "</style>\n",
              "<table border=\"1\" class=\"dataframe\">\n",
              "  <thead>\n",
              "    <tr style=\"text-align: right;\">\n",
              "      <th></th>\n",
              "      <th>Open</th>\n",
              "    </tr>\n",
              "    <tr>\n",
              "      <th>Date</th>\n",
              "      <th></th>\n",
              "    </tr>\n",
              "  </thead>\n",
              "  <tbody>\n",
              "    <tr>\n",
              "      <th>2019-01-02</th>\n",
              "      <td>38.722500</td>\n",
              "    </tr>\n",
              "    <tr>\n",
              "      <th>2019-01-03</th>\n",
              "      <td>35.994999</td>\n",
              "    </tr>\n",
              "    <tr>\n",
              "      <th>2019-01-04</th>\n",
              "      <td>36.132500</td>\n",
              "    </tr>\n",
              "    <tr>\n",
              "      <th>2019-01-07</th>\n",
              "      <td>37.174999</td>\n",
              "    </tr>\n",
              "    <tr>\n",
              "      <th>2019-01-08</th>\n",
              "      <td>37.389999</td>\n",
              "    </tr>\n",
              "    <tr>\n",
              "      <th>...</th>\n",
              "      <td>...</td>\n",
              "    </tr>\n",
              "    <tr>\n",
              "      <th>2023-11-08</th>\n",
              "      <td>182.350006</td>\n",
              "    </tr>\n",
              "    <tr>\n",
              "      <th>2023-11-09</th>\n",
              "      <td>182.960007</td>\n",
              "    </tr>\n",
              "    <tr>\n",
              "      <th>2023-11-10</th>\n",
              "      <td>183.970001</td>\n",
              "    </tr>\n",
              "    <tr>\n",
              "      <th>2023-11-13</th>\n",
              "      <td>185.820007</td>\n",
              "    </tr>\n",
              "    <tr>\n",
              "      <th>2023-11-14</th>\n",
              "      <td>187.699997</td>\n",
              "    </tr>\n",
              "  </tbody>\n",
              "</table>\n",
              "<p>1227 rows × 1 columns</p>\n",
              "</div>\n",
              "    <div class=\"colab-df-buttons\">\n",
              "\n",
              "  <div class=\"colab-df-container\">\n",
              "    <button class=\"colab-df-convert\" onclick=\"convertToInteractive('df-2a353500-e9b3-40c7-93ae-a1fad2c3ceee')\"\n",
              "            title=\"Convert this dataframe to an interactive table.\"\n",
              "            style=\"display:none;\">\n",
              "\n",
              "  <svg xmlns=\"http://www.w3.org/2000/svg\" height=\"24px\" viewBox=\"0 -960 960 960\">\n",
              "    <path d=\"M120-120v-720h720v720H120Zm60-500h600v-160H180v160Zm220 220h160v-160H400v160Zm0 220h160v-160H400v160ZM180-400h160v-160H180v160Zm440 0h160v-160H620v160ZM180-180h160v-160H180v160Zm440 0h160v-160H620v160Z\"/>\n",
              "  </svg>\n",
              "    </button>\n",
              "\n",
              "  <style>\n",
              "    .colab-df-container {\n",
              "      display:flex;\n",
              "      gap: 12px;\n",
              "    }\n",
              "\n",
              "    .colab-df-convert {\n",
              "      background-color: #E8F0FE;\n",
              "      border: none;\n",
              "      border-radius: 50%;\n",
              "      cursor: pointer;\n",
              "      display: none;\n",
              "      fill: #1967D2;\n",
              "      height: 32px;\n",
              "      padding: 0 0 0 0;\n",
              "      width: 32px;\n",
              "    }\n",
              "\n",
              "    .colab-df-convert:hover {\n",
              "      background-color: #E2EBFA;\n",
              "      box-shadow: 0px 1px 2px rgba(60, 64, 67, 0.3), 0px 1px 3px 1px rgba(60, 64, 67, 0.15);\n",
              "      fill: #174EA6;\n",
              "    }\n",
              "\n",
              "    .colab-df-buttons div {\n",
              "      margin-bottom: 4px;\n",
              "    }\n",
              "\n",
              "    [theme=dark] .colab-df-convert {\n",
              "      background-color: #3B4455;\n",
              "      fill: #D2E3FC;\n",
              "    }\n",
              "\n",
              "    [theme=dark] .colab-df-convert:hover {\n",
              "      background-color: #434B5C;\n",
              "      box-shadow: 0px 1px 3px 1px rgba(0, 0, 0, 0.15);\n",
              "      filter: drop-shadow(0px 1px 2px rgba(0, 0, 0, 0.3));\n",
              "      fill: #FFFFFF;\n",
              "    }\n",
              "  </style>\n",
              "\n",
              "    <script>\n",
              "      const buttonEl =\n",
              "        document.querySelector('#df-2a353500-e9b3-40c7-93ae-a1fad2c3ceee button.colab-df-convert');\n",
              "      buttonEl.style.display =\n",
              "        google.colab.kernel.accessAllowed ? 'block' : 'none';\n",
              "\n",
              "      async function convertToInteractive(key) {\n",
              "        const element = document.querySelector('#df-2a353500-e9b3-40c7-93ae-a1fad2c3ceee');\n",
              "        const dataTable =\n",
              "          await google.colab.kernel.invokeFunction('convertToInteractive',\n",
              "                                                    [key], {});\n",
              "        if (!dataTable) return;\n",
              "\n",
              "        const docLinkHtml = 'Like what you see? Visit the ' +\n",
              "          '<a target=\"_blank\" href=https://colab.research.google.com/notebooks/data_table.ipynb>data table notebook</a>'\n",
              "          + ' to learn more about interactive tables.';\n",
              "        element.innerHTML = '';\n",
              "        dataTable['output_type'] = 'display_data';\n",
              "        await google.colab.output.renderOutput(dataTable, element);\n",
              "        const docLink = document.createElement('div');\n",
              "        docLink.innerHTML = docLinkHtml;\n",
              "        element.appendChild(docLink);\n",
              "      }\n",
              "    </script>\n",
              "  </div>\n",
              "\n",
              "\n",
              "<div id=\"df-00563955-2aa4-4e78-be2c-b71b3b941238\">\n",
              "  <button class=\"colab-df-quickchart\" onclick=\"quickchart('df-00563955-2aa4-4e78-be2c-b71b3b941238')\"\n",
              "            title=\"Suggest charts\"\n",
              "            style=\"display:none;\">\n",
              "\n",
              "<svg xmlns=\"http://www.w3.org/2000/svg\" height=\"24px\"viewBox=\"0 0 24 24\"\n",
              "     width=\"24px\">\n",
              "    <g>\n",
              "        <path d=\"M19 3H5c-1.1 0-2 .9-2 2v14c0 1.1.9 2 2 2h14c1.1 0 2-.9 2-2V5c0-1.1-.9-2-2-2zM9 17H7v-7h2v7zm4 0h-2V7h2v10zm4 0h-2v-4h2v4z\"/>\n",
              "    </g>\n",
              "</svg>\n",
              "  </button>\n",
              "\n",
              "<style>\n",
              "  .colab-df-quickchart {\n",
              "      --bg-color: #E8F0FE;\n",
              "      --fill-color: #1967D2;\n",
              "      --hover-bg-color: #E2EBFA;\n",
              "      --hover-fill-color: #174EA6;\n",
              "      --disabled-fill-color: #AAA;\n",
              "      --disabled-bg-color: #DDD;\n",
              "  }\n",
              "\n",
              "  [theme=dark] .colab-df-quickchart {\n",
              "      --bg-color: #3B4455;\n",
              "      --fill-color: #D2E3FC;\n",
              "      --hover-bg-color: #434B5C;\n",
              "      --hover-fill-color: #FFFFFF;\n",
              "      --disabled-bg-color: #3B4455;\n",
              "      --disabled-fill-color: #666;\n",
              "  }\n",
              "\n",
              "  .colab-df-quickchart {\n",
              "    background-color: var(--bg-color);\n",
              "    border: none;\n",
              "    border-radius: 50%;\n",
              "    cursor: pointer;\n",
              "    display: none;\n",
              "    fill: var(--fill-color);\n",
              "    height: 32px;\n",
              "    padding: 0;\n",
              "    width: 32px;\n",
              "  }\n",
              "\n",
              "  .colab-df-quickchart:hover {\n",
              "    background-color: var(--hover-bg-color);\n",
              "    box-shadow: 0 1px 2px rgba(60, 64, 67, 0.3), 0 1px 3px 1px rgba(60, 64, 67, 0.15);\n",
              "    fill: var(--button-hover-fill-color);\n",
              "  }\n",
              "\n",
              "  .colab-df-quickchart-complete:disabled,\n",
              "  .colab-df-quickchart-complete:disabled:hover {\n",
              "    background-color: var(--disabled-bg-color);\n",
              "    fill: var(--disabled-fill-color);\n",
              "    box-shadow: none;\n",
              "  }\n",
              "\n",
              "  .colab-df-spinner {\n",
              "    border: 2px solid var(--fill-color);\n",
              "    border-color: transparent;\n",
              "    border-bottom-color: var(--fill-color);\n",
              "    animation:\n",
              "      spin 1s steps(1) infinite;\n",
              "  }\n",
              "\n",
              "  @keyframes spin {\n",
              "    0% {\n",
              "      border-color: transparent;\n",
              "      border-bottom-color: var(--fill-color);\n",
              "      border-left-color: var(--fill-color);\n",
              "    }\n",
              "    20% {\n",
              "      border-color: transparent;\n",
              "      border-left-color: var(--fill-color);\n",
              "      border-top-color: var(--fill-color);\n",
              "    }\n",
              "    30% {\n",
              "      border-color: transparent;\n",
              "      border-left-color: var(--fill-color);\n",
              "      border-top-color: var(--fill-color);\n",
              "      border-right-color: var(--fill-color);\n",
              "    }\n",
              "    40% {\n",
              "      border-color: transparent;\n",
              "      border-right-color: var(--fill-color);\n",
              "      border-top-color: var(--fill-color);\n",
              "    }\n",
              "    60% {\n",
              "      border-color: transparent;\n",
              "      border-right-color: var(--fill-color);\n",
              "    }\n",
              "    80% {\n",
              "      border-color: transparent;\n",
              "      border-right-color: var(--fill-color);\n",
              "      border-bottom-color: var(--fill-color);\n",
              "    }\n",
              "    90% {\n",
              "      border-color: transparent;\n",
              "      border-bottom-color: var(--fill-color);\n",
              "    }\n",
              "  }\n",
              "</style>\n",
              "\n",
              "  <script>\n",
              "    async function quickchart(key) {\n",
              "      const quickchartButtonEl =\n",
              "        document.querySelector('#' + key + ' button');\n",
              "      quickchartButtonEl.disabled = true;  // To prevent multiple clicks.\n",
              "      quickchartButtonEl.classList.add('colab-df-spinner');\n",
              "      try {\n",
              "        const charts = await google.colab.kernel.invokeFunction(\n",
              "            'suggestCharts', [key], {});\n",
              "      } catch (error) {\n",
              "        console.error('Error during call to suggestCharts:', error);\n",
              "      }\n",
              "      quickchartButtonEl.classList.remove('colab-df-spinner');\n",
              "      quickchartButtonEl.classList.add('colab-df-quickchart-complete');\n",
              "    }\n",
              "    (() => {\n",
              "      let quickchartButtonEl =\n",
              "        document.querySelector('#df-00563955-2aa4-4e78-be2c-b71b3b941238 button');\n",
              "      quickchartButtonEl.style.display =\n",
              "        google.colab.kernel.accessAllowed ? 'block' : 'none';\n",
              "    })();\n",
              "  </script>\n",
              "</div>\n",
              "    </div>\n",
              "  </div>\n"
            ]
          },
          "metadata": {},
          "execution_count": 115
        }
      ]
    },
    {
      "cell_type": "code",
      "metadata": {
        "id": "2mlIpi4VIn9z",
        "outputId": "634b74dc-79bc-4a20-dcfe-60958a5dafe8",
        "colab": {
          "base_uri": "https://localhost:8080/",
          "height": 0
        }
      },
      "source": [
        "#Get root mean squared error(RMSE)\n",
        "\n",
        "rmse =np.sqrt(np.mean(predictions-y_test)**2)\n",
        "rmse\n",
        "\n"
      ],
      "execution_count": 102,
      "outputs": [
        {
          "output_type": "execute_result",
          "data": {
            "text/plain": [
              "3.621891535544882"
            ]
          },
          "metadata": {},
          "execution_count": 102
        }
      ]
    },
    {
      "cell_type": "code",
      "metadata": {
        "id": "yBbVWNWSaGgT"
      },
      "source": [
        "#choose plotting style\n",
        "\n",
        "#plt.style.use('fivethirtyeight')\n",
        "#plt.style.use('dark_background')\n",
        "#plt.style.use('ggplot')\n",
        "#plt.style.use('seaborn-whitegrid')\n",
        "plt.style.use('bmh')\n",
        "#plt.style.use('seaborn')"
      ],
      "execution_count": 122,
      "outputs": []
    },
    {
      "cell_type": "code",
      "metadata": {
        "scrolled": true,
        "id": "dpG0ZTlAIn-G",
        "outputId": "d62fdeb1-5a86-4d83-c790-702d83a2c06d",
        "colab": {
          "base_uri": "https://localhost:8080/",
          "height": 868
        }
      },
      "source": [
        "#plot the data\n",
        "\n",
        "train=data[:training_data_len]\n",
        "valid=data[training_data_len:]\n",
        "valid['predictions'] = predictions\n",
        "\n",
        "#Visualize the data\n",
        "plt.figure(figsize=(16,8))\n",
        "plt.title('TESLA company - Model prediciton comparison')\n",
        "plt.xlabel('Date', fontsize=18)\n",
        "plt.ylabel('Open Price USD($)', fontsize=18)\n",
        "plt.plot(train['Open'] , color='blue')\n",
        "plt.plot(valid['Open'] , color='green')\n",
        "plt.plot(valid[ 'predictions'] , color='red')\n",
        "plt.legend(['Train','Validation', 'predictions'], loc='lower right')\n",
        "plt.savefig('/content/prediction.png')\n",
        "plt.show()\n"
      ],
      "execution_count": 124,
      "outputs": [
        {
          "output_type": "stream",
          "name": "stderr",
          "text": [
            "<ipython-input-124-b46943c42481>:5: SettingWithCopyWarning: \n",
            "A value is trying to be set on a copy of a slice from a DataFrame.\n",
            "Try using .loc[row_indexer,col_indexer] = value instead\n",
            "\n",
            "See the caveats in the documentation: https://pandas.pydata.org/pandas-docs/stable/user_guide/indexing.html#returning-a-view-versus-a-copy\n",
            "  valid['predictions'] = predictions\n"
          ]
        },
        {
          "output_type": "display_data",
          "data": {
            "text/plain": [
              "<Figure size 1600x800 with 1 Axes>"
            ],
            "image/png": "[encoded data removed]"
          },
          "metadata": {}
        }
      ]
    },
    {
      "cell_type": "code",
      "metadata": {
        "id": "9IZAwTwYIn-Y",
        "outputId": "9b9dccaf-6bb2-4f36-d511-e70d01b47707",
        "colab": {
          "base_uri": "https://localhost:8080/",
          "height": 551
        }
      },
      "source": [
        "#Show the valid and predicted prices\n",
        "\n",
        "valid.tail(15)"
      ],
      "execution_count": 105,
      "outputs": [
        {
          "output_type": "execute_result",
          "data": {
            "text/plain": [
              "                  Open  predictions\n",
              "Date                               \n",
              "2023-10-25  171.880005   169.160706\n",
              "2023-10-26  170.369995   168.777374\n",
              "2023-10-27  166.910004   168.071442\n",
              "2023-10-30  169.020004   166.279984\n",
              "2023-10-31  169.350006   165.794250\n",
              "2023-11-01  171.000000   165.977493\n",
              "2023-11-02  175.520004   166.940384\n",
              "2023-11-03  174.240005   169.493057\n",
              "2023-11-06  176.380005   170.901917\n",
              "2023-11-07  179.179993   172.241302\n",
              "2023-11-08  182.350006   174.012772\n",
              "2023-11-09  182.960007   176.326782\n",
              "2023-11-10  183.970001   177.962357\n",
              "2023-11-13  185.820007   179.044739\n",
              "2023-11-14  187.699997   180.168549"
            ],
            "text/html": [
              "\n",
              "  <div id=\"df-45352c83-43a7-4c46-bdbd-92b4f230eb10\" class=\"colab-df-container\">\n",
              "    <div>\n",
              "<style scoped>\n",
              "    .dataframe tbody tr th:only-of-type {\n",
              "        vertical-align: middle;\n",
              "    }\n",
              "\n",
              "    .dataframe tbody tr th {\n",
              "        vertical-align: top;\n",
              "    }\n",
              "\n",
              "    .dataframe thead th {\n",
              "        text-align: right;\n",
              "    }\n",
              "</style>\n",
              "<table border=\"1\" class=\"dataframe\">\n",
              "  <thead>\n",
              "    <tr style=\"text-align: right;\">\n",
              "      <th></th>\n",
              "      <th>Open</th>\n",
              "      <th>predictions</th>\n",
              "    </tr>\n",
              "    <tr>\n",
              "      <th>Date</th>\n",
              "      <th></th>\n",
              "      <th></th>\n",
              "    </tr>\n",
              "  </thead>\n",
              "  <tbody>\n",
              "    <tr>\n",
              "      <th>2023-10-25</th>\n",
              "      <td>171.880005</td>\n",
              "      <td>169.160706</td>\n",
              "    </tr>\n",
              "    <tr>\n",
              "      <th>2023-10-26</th>\n",
              "      <td>170.369995</td>\n",
              "      <td>168.777374</td>\n",
              "    </tr>\n",
              "    <tr>\n",
              "      <th>2023-10-27</th>\n",
              "      <td>166.910004</td>\n",
              "      <td>168.071442</td>\n",
              "    </tr>\n",
              "    <tr>\n",
              "      <th>2023-10-30</th>\n",
              "      <td>169.020004</td>\n",
              "      <td>166.279984</td>\n",
              "    </tr>\n",
              "    <tr>\n",
              "      <th>2023-10-31</th>\n",
              "      <td>169.350006</td>\n",
              "      <td>165.794250</td>\n",
              "    </tr>\n",
              "    <tr>\n",
              "      <th>2023-11-01</th>\n",
              "      <td>171.000000</td>\n",
              "      <td>165.977493</td>\n",
              "    </tr>\n",
              "    <tr>\n",
              "      <th>2023-11-02</th>\n",
              "      <td>175.520004</td>\n",
              "      <td>166.940384</td>\n",
              "    </tr>\n",
              "    <tr>\n",
              "      <th>2023-11-03</th>\n",
              "      <td>174.240005</td>\n",
              "      <td>169.493057</td>\n",
              "    </tr>\n",
              "    <tr>\n",
              "      <th>2023-11-06</th>\n",
              "      <td>176.380005</td>\n",
              "      <td>170.901917</td>\n",
              "    </tr>\n",
              "    <tr>\n",
              "      <th>2023-11-07</th>\n",
              "      <td>179.179993</td>\n",
              "      <td>172.241302</td>\n",
              "    </tr>\n",
              "    <tr>\n",
              "      <th>2023-11-08</th>\n",
              "      <td>182.350006</td>\n",
              "      <td>174.012772</td>\n",
              "    </tr>\n",
              "    <tr>\n",
              "      <th>2023-11-09</th>\n",
              "      <td>182.960007</td>\n",
              "      <td>176.326782</td>\n",
              "    </tr>\n",
              "    <tr>\n",
              "      <th>2023-11-10</th>\n",
              "      <td>183.970001</td>\n",
              "      <td>177.962357</td>\n",
              "    </tr>\n",
              "    <tr>\n",
              "      <th>2023-11-13</th>\n",
              "      <td>185.820007</td>\n",
              "      <td>179.044739</td>\n",
              "    </tr>\n",
              "    <tr>\n",
              "      <th>2023-11-14</th>\n",
              "      <td>187.699997</td>\n",
              "      <td>180.168549</td>\n",
              "    </tr>\n",
              "  </tbody>\n",
              "</table>\n",
              "</div>\n",
              "    <div class=\"colab-df-buttons\">\n",
              "\n",
              "  <div class=\"colab-df-container\">\n",
              "    <button class=\"colab-df-convert\" onclick=\"convertToInteractive('df-45352c83-43a7-4c46-bdbd-92b4f230eb10')\"\n",
              "            title=\"Convert this dataframe to an interactive table.\"\n",
              "            style=\"display:none;\">\n",
              "\n",
              "  <svg xmlns=\"http://www.w3.org/2000/svg\" height=\"24px\" viewBox=\"0 -960 960 960\">\n",
              "    <path d=\"M120-120v-720h720v720H120Zm60-500h600v-160H180v160Zm220 220h160v-160H400v160Zm0 220h160v-160H400v160ZM180-400h160v-160H180v160Zm440 0h160v-160H620v160ZM180-180h160v-160H180v160Zm440 0h160v-160H620v160Z\"/>\n",
              "  </svg>\n",
              "    </button>\n",
              "\n",
              "  <style>\n",
              "    .colab-df-container {\n",
              "      display:flex;\n",
              "      gap: 12px;\n",
              "    }\n",
              "\n",
              "    .colab-df-convert {\n",
              "      background-color: #E8F0FE;\n",
              "      border: none;\n",
              "      border-radius: 50%;\n",
              "      cursor: pointer;\n",
              "      display: none;\n",
              "      fill: #1967D2;\n",
              "      height: 32px;\n",
              "      padding: 0 0 0 0;\n",
              "      width: 32px;\n",
              "    }\n",
              "\n",
              "    .colab-df-convert:hover {\n",
              "      background-color: #E2EBFA;\n",
              "      box-shadow: 0px 1px 2px rgba(60, 64, 67, 0.3), 0px 1px 3px 1px rgba(60, 64, 67, 0.15);\n",
              "      fill: #174EA6;\n",
              "    }\n",
              "\n",
              "    .colab-df-buttons div {\n",
              "      margin-bottom: 4px;\n",
              "    }\n",
              "\n",
              "    [theme=dark] .colab-df-convert {\n",
              "      background-color: #3B4455;\n",
              "      fill: #D2E3FC;\n",
              "    }\n",
              "\n",
              "    [theme=dark] .colab-df-convert:hover {\n",
              "      background-color: #434B5C;\n",
              "      box-shadow: 0px 1px 3px 1px rgba(0, 0, 0, 0.15);\n",
              "      filter: drop-shadow(0px 1px 2px rgba(0, 0, 0, 0.3));\n",
              "      fill: #FFFFFF;\n",
              "    }\n",
              "  </style>\n",
              "\n",
              "    <script>\n",
              "      const buttonEl =\n",
              "        document.querySelector('#df-45352c83-43a7-4c46-bdbd-92b4f230eb10 button.colab-df-convert');\n",
              "      buttonEl.style.display =\n",
              "        google.colab.kernel.accessAllowed ? 'block' : 'none';\n",
              "\n",
              "      async function convertToInteractive(key) {\n",
              "        const element = document.querySelector('#df-45352c83-43a7-4c46-bdbd-92b4f230eb10');\n",
              "        const dataTable =\n",
              "          await google.colab.kernel.invokeFunction('convertToInteractive',\n",
              "                                                    [key], {});\n",
              "        if (!dataTable) return;\n",
              "\n",
              "        const docLinkHtml = 'Like what you see? Visit the ' +\n",
              "          '<a target=\"_blank\" href=https://colab.research.google.com/notebooks/data_table.ipynb>data table notebook</a>'\n",
              "          + ' to learn more about interactive tables.';\n",
              "        element.innerHTML = '';\n",
              "        dataTable['output_type'] = 'display_data';\n",
              "        await google.colab.output.renderOutput(dataTable, element);\n",
              "        const docLink = document.createElement('div');\n",
              "        docLink.innerHTML = docLinkHtml;\n",
              "        element.appendChild(docLink);\n",
              "      }\n",
              "    </script>\n",
              "  </div>\n",
              "\n",
              "\n",
              "<div id=\"df-2d21951f-b4a9-4bb9-8dfd-a0bdabb9799d\">\n",
              "  <button class=\"colab-df-quickchart\" onclick=\"quickchart('df-2d21951f-b4a9-4bb9-8dfd-a0bdabb9799d')\"\n",
              "            title=\"Suggest charts\"\n",
              "            style=\"display:none;\">\n",
              "\n",
              "<svg xmlns=\"http://www.w3.org/2000/svg\" height=\"24px\"viewBox=\"0 0 24 24\"\n",
              "     width=\"24px\">\n",
              "    <g>\n",
              "        <path d=\"M19 3H5c-1.1 0-2 .9-2 2v14c0 1.1.9 2 2 2h14c1.1 0 2-.9 2-2V5c0-1.1-.9-2-2-2zM9 17H7v-7h2v7zm4 0h-2V7h2v10zm4 0h-2v-4h2v4z\"/>\n",
              "    </g>\n",
              "</svg>\n",
              "  </button>\n",
              "\n",
              "<style>\n",
              "  .colab-df-quickchart {\n",
              "      --bg-color: #E8F0FE;\n",
              "      --fill-color: #1967D2;\n",
              "      --hover-bg-color: #E2EBFA;\n",
              "      --hover-fill-color: #174EA6;\n",
              "      --disabled-fill-color: #AAA;\n",
              "      --disabled-bg-color: #DDD;\n",
              "  }\n",
              "\n",
              "  [theme=dark] .colab-df-quickchart {\n",
              "      --bg-color: #3B4455;\n",
              "      --fill-color: #D2E3FC;\n",
              "      --hover-bg-color: #434B5C;\n",
              "      --hover-fill-color: #FFFFFF;\n",
              "      --disabled-bg-color: #3B4455;\n",
              "      --disabled-fill-color: #666;\n",
              "  }\n",
              "\n",
              "  .colab-df-quickchart {\n",
              "    background-color: var(--bg-color);\n",
              "    border: none;\n",
              "    border-radius: 50%;\n",
              "    cursor: pointer;\n",
              "    display: none;\n",
              "    fill: var(--fill-color);\n",
              "    height: 32px;\n",
              "    padding: 0;\n",
              "    width: 32px;\n",
              "  }\n",
              "\n",
              "  .colab-df-quickchart:hover {\n",
              "    background-color: var(--hover-bg-color);\n",
              "    box-shadow: 0 1px 2px rgba(60, 64, 67, 0.3), 0 1px 3px 1px rgba(60, 64, 67, 0.15);\n",
              "    fill: var(--button-hover-fill-color);\n",
              "  }\n",
              "\n",
              "  .colab-df-quickchart-complete:disabled,\n",
              "  .colab-df-quickchart-complete:disabled:hover {\n",
              "    background-color: var(--disabled-bg-color);\n",
              "    fill: var(--disabled-fill-color);\n",
              "    box-shadow: none;\n",
              "  }\n",
              "\n",
              "  .colab-df-spinner {\n",
              "    border: 2px solid var(--fill-color);\n",
              "    border-color: transparent;\n",
              "    border-bottom-color: var(--fill-color);\n",
              "    animation:\n",
              "      spin 1s steps(1) infinite;\n",
              "  }\n",
              "\n",
              "  @keyframes spin {\n",
              "    0% {\n",
              "      border-color: transparent;\n",
              "      border-bottom-color: var(--fill-color);\n",
              "      border-left-color: var(--fill-color);\n",
              "    }\n",
              "    20% {\n",
              "      border-color: transparent;\n",
              "      border-left-color: var(--fill-color);\n",
              "      border-top-color: var(--fill-color);\n",
              "    }\n",
              "    30% {\n",
              "      border-color: transparent;\n",
              "      border-left-color: var(--fill-color);\n",
              "      border-top-color: var(--fill-color);\n",
              "      border-right-color: var(--fill-color);\n",
              "    }\n",
              "    40% {\n",
              "      border-color: transparent;\n",
              "      border-right-color: var(--fill-color);\n",
              "      border-top-color: var(--fill-color);\n",
              "    }\n",
              "    60% {\n",
              "      border-color: transparent;\n",
              "      border-right-color: var(--fill-color);\n",
              "    }\n",
              "    80% {\n",
              "      border-color: transparent;\n",
              "      border-right-color: var(--fill-color);\n",
              "      border-bottom-color: var(--fill-color);\n",
              "    }\n",
              "    90% {\n",
              "      border-color: transparent;\n",
              "      border-bottom-color: var(--fill-color);\n",
              "    }\n",
              "  }\n",
              "</style>\n",
              "\n",
              "  <script>\n",
              "    async function quickchart(key) {\n",
              "      const quickchartButtonEl =\n",
              "        document.querySelector('#' + key + ' button');\n",
              "      quickchartButtonEl.disabled = true;  // To prevent multiple clicks.\n",
              "      quickchartButtonEl.classList.add('colab-df-spinner');\n",
              "      try {\n",
              "        const charts = await google.colab.kernel.invokeFunction(\n",
              "            'suggestCharts', [key], {});\n",
              "      } catch (error) {\n",
              "        console.error('Error during call to suggestCharts:', error);\n",
              "      }\n",
              "      quickchartButtonEl.classList.remove('colab-df-spinner');\n",
              "      quickchartButtonEl.classList.add('colab-df-quickchart-complete');\n",
              "    }\n",
              "    (() => {\n",
              "      let quickchartButtonEl =\n",
              "        document.querySelector('#df-2d21951f-b4a9-4bb9-8dfd-a0bdabb9799d button');\n",
              "      quickchartButtonEl.style.display =\n",
              "        google.colab.kernel.accessAllowed ? 'block' : 'none';\n",
              "    })();\n",
              "  </script>\n",
              "</div>\n",
              "    </div>\n",
              "  </div>\n"
            ]
          },
          "metadata": {},
          "execution_count": 105
        }
      ]
    },
    {
      "cell_type": "markdown",
      "metadata": {
        "id": "EwVZro2_OFLH"
      },
      "source": [
        "# Getting predicitions - for tomorrow"
      ]
    },
    {
      "cell_type": "code",
      "metadata": {
        "id": "GXS4uLtRIn-s",
        "outputId": "664658b1-9bc0-4ae0-89d8-1eceebe32ebf",
        "colab": {
          "base_uri": "https://localhost:8080/",
          "height": 0
        }
      },
      "source": [
        "\n",
        "\n",
        "# Retrieve historical stock price data using the Yahoo Finance API\n",
        "stock_quote = yf.download(ticker_symbol, start=\"2023-01-01\", end=\"2023-11-15\")\n",
        "\n",
        "#Get the quote\n",
        "#stock_quote = web.DataReader(ticker, data_source='yahoo', start='2012-01-01', end='2020-05-24')\n",
        "\n",
        "new_df=stock_quote.filter(['Open'])\n",
        "#Get last 60 days values and convert into array\n",
        "last_60_days=new_df[-60:].values\n",
        "\n",
        "#Scale the data to be values between 0\n",
        "last_60_days_scaled=scaler.transform(last_60_days)\n",
        "\n",
        "#Create an empty list\n",
        "X_test=[]\n",
        "#Appemd the past 60days\n",
        "X_test.append(last_60_days_scaled)\n",
        "\n",
        "#Conver the X_test data into numpy array\n",
        "X_test = np.array(X_test)\n",
        "\n",
        "#Reshape the data\n",
        "X_test = np.reshape(X_test, (X_test.shape[0], X_test.shape[1],1))\n",
        "#Get predicted scaled price\n",
        "pred_price = model.predict(X_test)\n",
        "#undo the scaling\n",
        "pred_price=scaler.inverse_transform(pred_price)\n",
        "print(f'Opening Price of {ticker} tomorrow:{pred_price}')"
      ],
      "execution_count": 108,
      "outputs": [
        {
          "output_type": "stream",
          "name": "stdout",
          "text": [
            "[*********************100%%**********************]  1 of 1 completed\n",
            "1/1 [==============================] - 0s 26ms/step\n",
            "Opening Price of AAPL tomorrow:[[139.54732]]\n"
          ]
        }
      ]
    },
    {
      "cell_type": "markdown",
      "metadata": {
        "id": "RfFPY58dPFDp"
      },
      "source": [
        "## Getting predicitions for 2 months from now ?"
      ]
    },
    {
      "cell_type": "code",
      "metadata": {
        "id": "dCzyvO2LO5cI",
        "colab": {
          "base_uri": "https://localhost:8080/",
          "height": 0
        },
        "outputId": "657868f8-9b00-4de2-ebb4-9423f27bae79"
      },
      "source": [
        "#Get the quote\n",
        "stock_quote = yf.download(ticker_symbol, start=\"2023-01-01\", end=\"2023-11-15\")\n",
        "\n",
        "new_df=stock_quote.filter(['Open'])\n",
        "#Get last 60 days values and convert into array\n",
        "last_60_days=new_df[-60:].values\n",
        "\n",
        "#Scale the data to be values between 0\n",
        "last_60_days_scaled=scaler.transform(last_60_days)\n",
        "\n",
        "#Create an empty list\n",
        "X_test=[]\n",
        "#Appemd the past 60days\n",
        "X_test.append(last_60_days_scaled)\n",
        "\n",
        "#Conver the X_test data into numpy array\n",
        "X_test = np.array(X_test)\n",
        "\n",
        "#Reshape the data\n",
        "X_test = np.reshape(X_test, (X_test.shape[0], X_test.shape[1],1))\n",
        "#Get predicted scaled price\n",
        "pred_price = model.predict(X_test)\n",
        "#undo the scaling\n",
        "pred_price=scaler.inverse_transform(pred_price)\n",
        "print(f'Opening Price of {ticker} 2mon:{pred_price}')"
      ],
      "execution_count": 109,
      "outputs": [
        {
          "output_type": "stream",
          "name": "stdout",
          "text": [
            "[*********************100%%**********************]  1 of 1 completed\n",
            "1/1 [==============================] - 0s 97ms/step\n",
            "Opening Price of AAPL 2mon:[[139.54732]]\n"
          ]
        }
      ]
    },
    {
      "cell_type": "code",
      "source": [
        "import numpy as np\n",
        "import yfinance as yf\n",
        "from sklearn.preprocessing import MinMaxScaler\n",
        "\n",
        "# Replace 'ticker_symbol' with the actual stock ticker\n",
        "ticker_symbol = \"AAPL\"\n",
        "\n",
        "# Get the stock quote\n",
        "stock_quote = yf.download(ticker_symbol, start=\"2023-01-01\", end=\"2023-11-15\")\n",
        "\n",
        "# Filter out the 'Open' column\n",
        "new_df = stock_quote.filter(['Open'])\n",
        "\n",
        "# Get the last 60 days' values and convert them into an array\n",
        "last_60_days = new_df[-60:].values\n",
        "\n",
        "# Assuming 'scaler' is already defined and fitted to your data\n",
        "# Scale the data to be values between 0 and 1\n",
        "last_60_days_scaled = scaler.transform(last_60_days)\n",
        "\n",
        "# Create an empty list for test data\n",
        "X_test = []\n",
        "\n",
        "# Append the past 60 days\n",
        "X_test.append(last_60_days_scaled)\n",
        "\n",
        "# Convert the X_test data to a numpy array\n",
        "X_test = np.array(X_test)\n",
        "\n",
        "# Reshape the data for the model (depends on model's expected input shape)\n",
        "X_test = np.reshape(X_test, (X_test.shape[0], X_test.shape[1], 1))\n",
        "\n",
        "# Assuming 'model' is your pre-trained model\n",
        "# Get the predicted scaled price\n",
        "pred_price = model.predict(X_test)\n",
        "\n",
        "# Undo the scaling to get the actual price prediction\n",
        "pred_price = scaler.inverse_transform(pred_price)\n",
        "\n",
        "print(f'Predicted Opening Price of {ticker_symbol} in 2 months: {pred_price[0][0]}')\n"
      ],
      "metadata": {
        "colab": {
          "base_uri": "https://localhost:8080/",
          "height": 0
        },
        "id": "gd5HuZ3Km24G",
        "outputId": "46fec61a-2b9d-4bd9-ce9c-0eed7e3ede2d"
      },
      "execution_count": 117,
      "outputs": [
        {
          "output_type": "stream",
          "name": "stdout",
          "text": [
            "[*********************100%%**********************]  1 of 1 completed\n",
            "1/1 [==============================] - 0s 48ms/step\n",
            "Predicted Opening Price of AAPL in 2 months: 181.50198364257812\n"
          ]
        }
      ]
    },
    {
      "cell_type": "code",
      "source": [
        "pred_price"
      ],
      "metadata": {
        "colab": {
          "base_uri": "https://localhost:8080/",
          "height": 0
        },
        "id": "Osp04jr_m8V6",
        "outputId": "6b948416-a9c4-4dec-909d-c0666c6ae990"
      },
      "execution_count": 118,
      "outputs": [
        {
          "output_type": "execute_result",
          "data": {
            "text/plain": [
              "array([[181.50198]], dtype=float32)"
            ]
          },
          "metadata": {},
          "execution_count": 118
        }
      ]
    },
    {
      "cell_type": "code",
      "source": [
        "import matplotlib.pyplot as plt\n",
        "import pandas as pd\n",
        "\n",
        "# Assuming 'stock_quote' is your historical data and 'pred_price' is your predicted price\n",
        "# Add predicted price to the DataFrame\n",
        "predicted_date = \"2023-12-01\"  # replace with the actual predicted date\n",
        "stock_quote.loc[predicted_date] = [pred_price[0][0], None, None, None, None, None]  # Assuming Open price\n",
        "\n",
        "# Plotting the historical data\n",
        "plt.figure(figsize=(10,6))\n",
        "plt.plot(stock_quote['Open'], label='Historical Open Price', color='blue') #plt.plot(train['Open'] , color='blue')\n",
        "#plt.scatter(predicted_date, pred_price[0][0], color='red', label='Predicted Price')  # Highlight the prediction\n",
        "#plt.plot(predicted_date, pred_price[0][0], label='Predict  Open Price', color='red')\n",
        "\n",
        "# Customizing the plot\n",
        "plt.title('Historical and Predicted Stock Prices')\n",
        "plt.xlabel('Date')\n",
        "plt.ylabel('Open Price')\n",
        "plt.legend()\n",
        "\n",
        "\n",
        "# Show the plot\n",
        "plt.show()\n",
        "\n",
        "# Creating a table\n",
        "# Convert the DataFrame to a table format, can be displayed or exported\n",
        "table_df = stock_quote[['Open']]\n",
        "print(table_df)\n",
        "\n",
        "# Optionally, export the table to a CSV or Excel file\n",
        "# table_df.to_csv('stock_prices.csv')\n",
        "# table_df.to_excel('stock_prices.xlsx')\n"
      ],
      "metadata": {
        "colab": {
          "base_uri": "https://localhost:8080/",
          "height": 861
        },
        "id": "lTCi5KHznQFM",
        "outputId": "9b5d7565-391c-45a3-a555-07dcbe6afcd9"
      },
      "execution_count": 134,
      "outputs": [
        {
          "output_type": "display_data",
          "data": {
            "text/plain": [
              "<Figure size 1000x600 with 1 Axes>"
            ],
            "image/png": "[encoded data removed]"
          },
          "metadata": {}
        },
        {
          "output_type": "stream",
          "name": "stdout",
          "text": [
            "                           Open\n",
            "Date                           \n",
            "2023-01-03 00:00:00  130.279999\n",
            "2023-01-04 00:00:00  126.889999\n",
            "2023-01-05 00:00:00  127.129997\n",
            "2023-01-06 00:00:00  126.010002\n",
            "2023-01-09 00:00:00  130.470001\n",
            "...                         ...\n",
            "2023-11-14 00:00:00  187.699997\n",
            "2023-01-01           181.501984\n",
            "2024-01-01           181.501984\n",
            "2025-01-01           181.501984\n",
            "2023-12-01           181.501984\n",
            "\n",
            "[223 rows x 1 columns]\n"
          ]
        }
      ]
    },
    {
      "cell_type": "code",
      "source": [
        "import numpy as np\n",
        "import yfinance as yf\n",
        "from sklearn.preprocessing import MinMaxScaler\n",
        "from datetime import datetime, timedelta\n",
        "\n",
        "# Replace 'ticker_symbol' with the actual stock ticker\n",
        "ticker_symbol = \"AAPL\"\n",
        "\n",
        "# Get the stock quote\n",
        "stock_quote = yf.download(ticker_symbol, start=\"2010-01-01\", end=\"2023-11-15\")\n",
        "\n",
        "# Filter out the 'Open' column\n",
        "new_df = stock_quote.filter(['Open'])\n",
        "\n",
        "# Define the scaler and model (assuming they are already trained and available)\n",
        "\n",
        "# Function to predict the next day's price\n",
        "def predict_next_day(data):\n",
        "    # Process the data as in your existing code\n",
        "    last_60_days_scaled = scaler.transform(data)\n",
        "    X_test = [last_60_days_scaled]\n",
        "    X_test = np.array(X_test)\n",
        "    X_test = np.reshape(X_test, (X_test.shape[0], X_test.shape[1], 1))\n",
        "\n",
        "    # Get the predicted scaled price\n",
        "    pred_price = model.predict(X_test)\n",
        "\n",
        "    # Undo the scaling\n",
        "    return scaler.inverse_transform(pred_price)[0][0]\n",
        "\n",
        "# Initialize the list for storing predictions\n",
        "predictions = []\n",
        "\n",
        "# Calculate the number of days to predict\n",
        "today = datetime.now()\n",
        "end_of_year = datetime(today.year, 12, 31)\n",
        "delta = end_of_year - today\n",
        "\n",
        "# Loop over each day\n",
        "for i in range(delta.days + 1):\n",
        "    # Get the last 60 days' data (updating with new predictions)\n",
        "    if i > 0:\n",
        "        next_day_data = np.append(new_df[-89:].values, [[predictions[-1]]], axis=0)\n",
        "    else:\n",
        "        next_day_data = new_df[-900:].values\n",
        "\n",
        "    # Predict the next day's price\n",
        "    next_day_pred = predict_next_day(next_day_data)\n",
        "    predictions.append(next_day_pred)\n",
        "\n",
        "    # Print the predicted price\n",
        "    print(f\"Predicted Opening Price of {ticker_symbol} on {today + timedelta(days=i)}: {next_day_pred}\")\n",
        "\n",
        "# predictions now contains the predicted prices from today to the end of the year\n"
      ],
      "metadata": {
        "colab": {
          "base_uri": "https://localhost:8080/",
          "height": 0
        },
        "id": "qIg-CnRkox9l",
        "outputId": "5b6d4821-4e32-42ed-b908-8beb61058e7b"
      },
      "execution_count": 143,
      "outputs": [
        {
          "output_type": "stream",
          "name": "stdout",
          "text": [
            "[*********************100%%**********************]  1 of 1 completed\n",
            "1/1 [==============================] - 0s 86ms/step\n",
            "Predicted Opening Price of AAPL on 2023-11-15 20:27:31.504531: 181.5023956298828\n",
            "1/1 [==============================] - 0s 30ms/step\n",
            "Predicted Opening Price of AAPL on 2023-11-16 20:27:31.504531: 179.72572326660156\n",
            "1/1 [==============================] - 0s 27ms/step\n",
            "Predicted Opening Price of AAPL on 2023-11-17 20:27:31.504531: 179.00328063964844\n",
            "1/1 [==============================] - 0s 28ms/step\n",
            "Predicted Opening Price of AAPL on 2023-11-18 20:27:31.504531: 178.70999145507812\n",
            "1/1 [==============================] - 0s 29ms/step\n",
            "Predicted Opening Price of AAPL on 2023-11-19 20:27:31.504531: 178.5909881591797\n",
            "1/1 [==============================] - 0s 30ms/step\n",
            "Predicted Opening Price of AAPL on 2023-11-20 20:27:31.504531: 178.54275512695312\n",
            "1/1 [==============================] - 0s 28ms/step\n",
            "Predicted Opening Price of AAPL on 2023-11-21 20:27:31.504531: 178.523193359375\n",
            "1/1 [==============================] - 0s 30ms/step\n",
            "Predicted Opening Price of AAPL on 2023-11-22 20:27:31.504531: 178.5152587890625\n",
            "1/1 [==============================] - 0s 28ms/step\n",
            "Predicted Opening Price of AAPL on 2023-11-23 20:27:31.504531: 178.5120391845703\n",
            "1/1 [==============================] - 0s 27ms/step\n",
            "Predicted Opening Price of AAPL on 2023-11-24 20:27:31.504531: 178.51071166992188\n",
            "1/1 [==============================] - 0s 30ms/step\n",
            "Predicted Opening Price of AAPL on 2023-11-25 20:27:31.504531: 178.51019287109375\n",
            "1/1 [==============================] - 0s 30ms/step\n",
            "Predicted Opening Price of AAPL on 2023-11-26 20:27:31.504531: 178.5099639892578\n",
            "1/1 [==============================] - 0s 28ms/step\n",
            "Predicted Opening Price of AAPL on 2023-11-27 20:27:31.504531: 178.5098876953125\n",
            "1/1 [==============================] - 0s 32ms/step\n",
            "Predicted Opening Price of AAPL on 2023-11-28 20:27:31.504531: 178.5098419189453\n",
            "1/1 [==============================] - 0s 31ms/step\n",
            "Predicted Opening Price of AAPL on 2023-11-29 20:27:31.504531: 178.5098114013672\n",
            "1/1 [==============================] - 0s 27ms/step\n",
            "Predicted Opening Price of AAPL on 2023-11-30 20:27:31.504531: 178.5098114013672\n",
            "1/1 [==============================] - 0s 36ms/step\n",
            "Predicted Opening Price of AAPL on 2023-12-01 20:27:31.504531: 178.5098114013672\n",
            "1/1 [==============================] - 0s 28ms/step\n",
            "Predicted Opening Price of AAPL on 2023-12-02 20:27:31.504531: 178.5098114013672\n",
            "1/1 [==============================] - 0s 28ms/step\n",
            "Predicted Opening Price of AAPL on 2023-12-03 20:27:31.504531: 178.5098114013672\n",
            "1/1 [==============================] - 0s 27ms/step\n",
            "Predicted Opening Price of AAPL on 2023-12-04 20:27:31.504531: 178.5098114013672\n",
            "1/1 [==============================] - 0s 31ms/step\n",
            "Predicted Opening Price of AAPL on 2023-12-05 20:27:31.504531: 178.5098114013672\n",
            "1/1 [==============================] - 0s 30ms/step\n",
            "Predicted Opening Price of AAPL on 2023-12-06 20:27:31.504531: 178.5098114013672\n",
            "1/1 [==============================] - 0s 31ms/step\n",
            "Predicted Opening Price of AAPL on 2023-12-07 20:27:31.504531: 178.5098114013672\n",
            "1/1 [==============================] - 0s 28ms/step\n",
            "Predicted Opening Price of AAPL on 2023-12-08 20:27:31.504531: 178.5098114013672\n",
            "1/1 [==============================] - 0s 31ms/step\n",
            "Predicted Opening Price of AAPL on 2023-12-09 20:27:31.504531: 178.5098114013672\n",
            "1/1 [==============================] - 0s 35ms/step\n",
            "Predicted Opening Price of AAPL on 2023-12-10 20:27:31.504531: 178.5098114013672\n",
            "1/1 [==============================] - 0s 30ms/step\n",
            "Predicted Opening Price of AAPL on 2023-12-11 20:27:31.504531: 178.5098114013672\n",
            "1/1 [==============================] - 0s 28ms/step\n",
            "Predicted Opening Price of AAPL on 2023-12-12 20:27:31.504531: 178.5098114013672\n",
            "1/1 [==============================] - 0s 27ms/step\n",
            "Predicted Opening Price of AAPL on 2023-12-13 20:27:31.504531: 178.5098114013672\n",
            "1/1 [==============================] - 0s 31ms/step\n",
            "Predicted Opening Price of AAPL on 2023-12-14 20:27:31.504531: 178.5098114013672\n",
            "1/1 [==============================] - 0s 30ms/step\n",
            "Predicted Opening Price of AAPL on 2023-12-15 20:27:31.504531: 178.5098114013672\n",
            "1/1 [==============================] - 0s 28ms/step\n",
            "Predicted Opening Price of AAPL on 2023-12-16 20:27:31.504531: 178.5098114013672\n",
            "1/1 [==============================] - 0s 31ms/step\n",
            "Predicted Opening Price of AAPL on 2023-12-17 20:27:31.504531: 178.5098114013672\n",
            "1/1 [==============================] - 0s 27ms/step\n",
            "Predicted Opening Price of AAPL on 2023-12-18 20:27:31.504531: 178.5098114013672\n",
            "1/1 [==============================] - 0s 31ms/step\n",
            "Predicted Opening Price of AAPL on 2023-12-19 20:27:31.504531: 178.5098114013672\n",
            "1/1 [==============================] - 0s 28ms/step\n",
            "Predicted Opening Price of AAPL on 2023-12-20 20:27:31.504531: 178.5098114013672\n",
            "1/1 [==============================] - 0s 35ms/step\n",
            "Predicted Opening Price of AAPL on 2023-12-21 20:27:31.504531: 178.5098114013672\n",
            "1/1 [==============================] - 0s 29ms/step\n",
            "Predicted Opening Price of AAPL on 2023-12-22 20:27:31.504531: 178.5098114013672\n",
            "1/1 [==============================] - 0s 30ms/step\n",
            "Predicted Opening Price of AAPL on 2023-12-23 20:27:31.504531: 178.5098114013672\n",
            "1/1 [==============================] - 0s 40ms/step\n",
            "Predicted Opening Price of AAPL on 2023-12-24 20:27:31.504531: 178.5098114013672\n",
            "1/1 [==============================] - 0s 28ms/step\n",
            "Predicted Opening Price of AAPL on 2023-12-25 20:27:31.504531: 178.5098114013672\n",
            "1/1 [==============================] - 0s 28ms/step\n",
            "Predicted Opening Price of AAPL on 2023-12-26 20:27:31.504531: 178.5098114013672\n",
            "1/1 [==============================] - 0s 28ms/step\n",
            "Predicted Opening Price of AAPL on 2023-12-27 20:27:31.504531: 178.5098114013672\n",
            "1/1 [==============================] - 0s 29ms/step\n",
            "Predicted Opening Price of AAPL on 2023-12-28 20:27:31.504531: 178.5098114013672\n",
            "1/1 [==============================] - 0s 27ms/step\n",
            "Predicted Opening Price of AAPL on 2023-12-29 20:27:31.504531: 178.5098114013672\n",
            "1/1 [==============================] - 0s 28ms/step\n",
            "Predicted Opening Price of AAPL on 2023-12-30 20:27:31.504531: 178.5098114013672\n"
          ]
        }
      ]
    },
    {
      "cell_type": "markdown",
      "source": [],
      "metadata": {
        "id": "1ppddHTKoxtH"
      }
    },
    {
      "cell_type": "code",
      "source": [
        "import numpy as np\n",
        "import yfinance as yf\n",
        "import pandas as pd\n",
        "from sklearn.preprocessing import MinMaxScaler\n",
        "from datetime import datetime, timedelta\n",
        "\n",
        "# Replace 'ticker_symbol' with the actual stock ticker\n",
        "ticker_symbol = \"AAPL\"\n",
        "\n",
        "# Get the stock quote\n",
        "stock_quote = yf.download(ticker_symbol, start=\"2023-01-01\", end=\"2023-11-15\")\n",
        "\n",
        "# Filter out the 'Open' column\n",
        "new_df = stock_quote.filter(['Open'])\n",
        "\n",
        "# Define the scaler and model (assuming they are already trained and available)\n",
        "\n",
        "# Function to predict the next day's price\n",
        "def predict_next_day(data):\n",
        "    # Process the data as in your existing code\n",
        "    last_60_days_scaled = scaler.transform(data)\n",
        "    X_test = [last_60_days_scaled]\n",
        "    X_test = np.array(X_test)\n",
        "    X_test = np.reshape(X_test, (X_test.shape[0], X_test.shape[1], 1))\n",
        "\n",
        "    # Get the predicted scaled price\n",
        "    pred_price = model.predict(X_test)\n",
        "\n",
        "    # Undo the scaling\n",
        "    return scaler.inverse_transform(pred_price)[0][0]\n",
        "\n",
        "# Initialize DataFrame for storing predictions\n",
        "predictions_df = pd.DataFrame(columns=['Date', 'Predicted_Opening_Price'])\n",
        "\n",
        "# Calculate the number of days to predict\n",
        "today = datetime.now()\n",
        "end_of_year = datetime(today.year, 12, 31)\n",
        "delta = end_of_year - today\n",
        "\n",
        "# Loop over each day\n",
        "for i in range(delta.days + 1):\n",
        "    # Get the last 60 days' data (updating with new predictions)\n",
        "    if i > 0:\n",
        "        next_day_data = np.append(new_df[-59:].values, [[predictions_df.iloc[-1]['Predicted_Opening_Price']]], axis=0)\n",
        "    else:\n",
        "        next_day_data = new_df[-60:].values\n",
        "\n",
        "    # Predict the next day's price\n",
        "    next_day_pred = predict_next_day(next_day_data)\n",
        "\n",
        "    # Add the prediction to the DataFrame\n",
        "    predictions_df = predictions_df.append({'Date': today + timedelta(days=i), 'Predicted_Opening_Price': next_day_pred}, ignore_index=True)\n",
        "\n",
        "# Display the DataFrame\n",
        "predictions_df.head\n",
        "\n",
        "# Optionally, you can export this DataFrame to a CSV file\n",
        "# predictions_df.to_csv('AAPL_predictions.csv', index=False)\n"
      ],
      "metadata": {
        "colab": {
          "base_uri": "https://localhost:8080/",
          "height": 0
        },
        "id": "6nJogL5SqHtf",
        "outputId": "8b1dee0d-e1a0-4768-fec7-20e1d4ccbf5e"
      },
      "execution_count": 146,
      "outputs": [
        {
          "output_type": "stream",
          "name": "stdout",
          "text": [
            "[*********************100%%**********************]  1 of 1 completed\n",
            "1/1 [==============================] - 0s 149ms/step\n"
          ]
        },
        {
          "output_type": "stream",
          "name": "stderr",
          "text": [
            "<ipython-input-146-7d280a18134e>:52: FutureWarning: The frame.append method is deprecated and will be removed from pandas in a future version. Use pandas.concat instead.\n",
            "  predictions_df = predictions_df.append({'Date': today + timedelta(days=i), 'Predicted_Opening_Price': next_day_pred}, ignore_index=True)\n"
          ]
        },
        {
          "output_type": "stream",
          "name": "stdout",
          "text": [
            "1/1 [==============================] - 0s 88ms/step\n"
          ]
        },
        {
          "output_type": "stream",
          "name": "stderr",
          "text": [
            "<ipython-input-146-7d280a18134e>:52: FutureWarning: The frame.append method is deprecated and will be removed from pandas in a future version. Use pandas.concat instead.\n",
            "  predictions_df = predictions_df.append({'Date': today + timedelta(days=i), 'Predicted_Opening_Price': next_day_pred}, ignore_index=True)\n"
          ]
        },
        {
          "output_type": "stream",
          "name": "stdout",
          "text": [
            "1/1 [==============================] - 0s 93ms/step\n"
          ]
        },
        {
          "output_type": "stream",
          "name": "stderr",
          "text": [
            "<ipython-input-146-7d280a18134e>:52: FutureWarning: The frame.append method is deprecated and will be removed from pandas in a future version. Use pandas.concat instead.\n",
            "  predictions_df = predictions_df.append({'Date': today + timedelta(days=i), 'Predicted_Opening_Price': next_day_pred}, ignore_index=True)\n"
          ]
        },
        {
          "output_type": "stream",
          "name": "stdout",
          "text": [
            "1/1 [==============================] - 0s 88ms/step\n",
            "1/1 [==============================] - 0s 54ms/step\n"
          ]
        },
        {
          "output_type": "stream",
          "name": "stderr",
          "text": [
            "<ipython-input-146-7d280a18134e>:52: FutureWarning: The frame.append method is deprecated and will be removed from pandas in a future version. Use pandas.concat instead.\n",
            "  predictions_df = predictions_df.append({'Date': today + timedelta(days=i), 'Predicted_Opening_Price': next_day_pred}, ignore_index=True)\n",
            "<ipython-input-146-7d280a18134e>:52: FutureWarning: The frame.append method is deprecated and will be removed from pandas in a future version. Use pandas.concat instead.\n",
            "  predictions_df = predictions_df.append({'Date': today + timedelta(days=i), 'Predicted_Opening_Price': next_day_pred}, ignore_index=True)\n"
          ]
        },
        {
          "output_type": "stream",
          "name": "stdout",
          "text": [
            "1/1 [==============================] - 0s 46ms/step\n",
            "1/1 [==============================] - 0s 47ms/step\n"
          ]
        },
        {
          "output_type": "stream",
          "name": "stderr",
          "text": [
            "<ipython-input-146-7d280a18134e>:52: FutureWarning: The frame.append method is deprecated and will be removed from pandas in a future version. Use pandas.concat instead.\n",
            "  predictions_df = predictions_df.append({'Date': today + timedelta(days=i), 'Predicted_Opening_Price': next_day_pred}, ignore_index=True)\n",
            "<ipython-input-146-7d280a18134e>:52: FutureWarning: The frame.append method is deprecated and will be removed from pandas in a future version. Use pandas.concat instead.\n",
            "  predictions_df = predictions_df.append({'Date': today + timedelta(days=i), 'Predicted_Opening_Price': next_day_pred}, ignore_index=True)\n"
          ]
        },
        {
          "output_type": "stream",
          "name": "stdout",
          "text": [
            "1/1 [==============================] - 0s 63ms/step\n",
            "1/1 [==============================] - 0s 79ms/step\n"
          ]
        },
        {
          "output_type": "stream",
          "name": "stderr",
          "text": [
            "<ipython-input-146-7d280a18134e>:52: FutureWarning: The frame.append method is deprecated and will be removed from pandas in a future version. Use pandas.concat instead.\n",
            "  predictions_df = predictions_df.append({'Date': today + timedelta(days=i), 'Predicted_Opening_Price': next_day_pred}, ignore_index=True)\n",
            "<ipython-input-146-7d280a18134e>:52: FutureWarning: The frame.append method is deprecated and will be removed from pandas in a future version. Use pandas.concat instead.\n",
            "  predictions_df = predictions_df.append({'Date': today + timedelta(days=i), 'Predicted_Opening_Price': next_day_pred}, ignore_index=True)\n"
          ]
        },
        {
          "output_type": "stream",
          "name": "stdout",
          "text": [
            "1/1 [==============================] - 0s 30ms/step\n",
            "1/1 [==============================] - 0s 28ms/step\n",
            "1/1 [==============================] - 0s 33ms/step\n"
          ]
        },
        {
          "output_type": "stream",
          "name": "stderr",
          "text": [
            "<ipython-input-146-7d280a18134e>:52: FutureWarning: The frame.append method is deprecated and will be removed from pandas in a future version. Use pandas.concat instead.\n",
            "  predictions_df = predictions_df.append({'Date': today + timedelta(days=i), 'Predicted_Opening_Price': next_day_pred}, ignore_index=True)\n",
            "<ipython-input-146-7d280a18134e>:52: FutureWarning: The frame.append method is deprecated and will be removed from pandas in a future version. Use pandas.concat instead.\n",
            "  predictions_df = predictions_df.append({'Date': today + timedelta(days=i), 'Predicted_Opening_Price': next_day_pred}, ignore_index=True)\n",
            "<ipython-input-146-7d280a18134e>:52: FutureWarning: The frame.append method is deprecated and will be removed from pandas in a future version. Use pandas.concat instead.\n",
            "  predictions_df = predictions_df.append({'Date': today + timedelta(days=i), 'Predicted_Opening_Price': next_day_pred}, ignore_index=True)\n"
          ]
        },
        {
          "output_type": "stream",
          "name": "stdout",
          "text": [
            "1/1 [==============================] - 0s 68ms/step\n",
            "1/1 [==============================] - 0s 42ms/step\n"
          ]
        },
        {
          "output_type": "stream",
          "name": "stderr",
          "text": [
            "<ipython-input-146-7d280a18134e>:52: FutureWarning: The frame.append method is deprecated and will be removed from pandas in a future version. Use pandas.concat instead.\n",
            "  predictions_df = predictions_df.append({'Date': today + timedelta(days=i), 'Predicted_Opening_Price': next_day_pred}, ignore_index=True)\n",
            "<ipython-input-146-7d280a18134e>:52: FutureWarning: The frame.append method is deprecated and will be removed from pandas in a future version. Use pandas.concat instead.\n",
            "  predictions_df = predictions_df.append({'Date': today + timedelta(days=i), 'Predicted_Opening_Price': next_day_pred}, ignore_index=True)\n"
          ]
        },
        {
          "output_type": "stream",
          "name": "stdout",
          "text": [
            "1/1 [==============================] - 0s 42ms/step\n",
            "1/1 [==============================] - 0s 45ms/step\n"
          ]
        },
        {
          "output_type": "stream",
          "name": "stderr",
          "text": [
            "<ipython-input-146-7d280a18134e>:52: FutureWarning: The frame.append method is deprecated and will be removed from pandas in a future version. Use pandas.concat instead.\n",
            "  predictions_df = predictions_df.append({'Date': today + timedelta(days=i), 'Predicted_Opening_Price': next_day_pred}, ignore_index=True)\n",
            "<ipython-input-146-7d280a18134e>:52: FutureWarning: The frame.append method is deprecated and will be removed from pandas in a future version. Use pandas.concat instead.\n",
            "  predictions_df = predictions_df.append({'Date': today + timedelta(days=i), 'Predicted_Opening_Price': next_day_pred}, ignore_index=True)\n"
          ]
        },
        {
          "output_type": "stream",
          "name": "stdout",
          "text": [
            "1/1 [==============================] - 0s 46ms/step\n",
            "1/1 [==============================] - 0s 74ms/step\n"
          ]
        },
        {
          "output_type": "stream",
          "name": "stderr",
          "text": [
            "<ipython-input-146-7d280a18134e>:52: FutureWarning: The frame.append method is deprecated and will be removed from pandas in a future version. Use pandas.concat instead.\n",
            "  predictions_df = predictions_df.append({'Date': today + timedelta(days=i), 'Predicted_Opening_Price': next_day_pred}, ignore_index=True)\n",
            "<ipython-input-146-7d280a18134e>:52: FutureWarning: The frame.append method is deprecated and will be removed from pandas in a future version. Use pandas.concat instead.\n",
            "  predictions_df = predictions_df.append({'Date': today + timedelta(days=i), 'Predicted_Opening_Price': next_day_pred}, ignore_index=True)\n"
          ]
        },
        {
          "output_type": "stream",
          "name": "stdout",
          "text": [
            "1/1 [==============================] - 0s 87ms/step\n"
          ]
        },
        {
          "output_type": "stream",
          "name": "stderr",
          "text": [
            "<ipython-input-146-7d280a18134e>:52: FutureWarning: The frame.append method is deprecated and will be removed from pandas in a future version. Use pandas.concat instead.\n",
            "  predictions_df = predictions_df.append({'Date': today + timedelta(days=i), 'Predicted_Opening_Price': next_day_pred}, ignore_index=True)\n"
          ]
        },
        {
          "output_type": "stream",
          "name": "stdout",
          "text": [
            "1/1 [==============================] - 0s 96ms/step\n"
          ]
        },
        {
          "output_type": "stream",
          "name": "stderr",
          "text": [
            "<ipython-input-146-7d280a18134e>:52: FutureWarning: The frame.append method is deprecated and will be removed from pandas in a future version. Use pandas.concat instead.\n",
            "  predictions_df = predictions_df.append({'Date': today + timedelta(days=i), 'Predicted_Opening_Price': next_day_pred}, ignore_index=True)\n"
          ]
        },
        {
          "output_type": "stream",
          "name": "stdout",
          "text": [
            "1/1 [==============================] - 0s 107ms/step\n"
          ]
        },
        {
          "output_type": "stream",
          "name": "stderr",
          "text": [
            "<ipython-input-146-7d280a18134e>:52: FutureWarning: The frame.append method is deprecated and will be removed from pandas in a future version. Use pandas.concat instead.\n",
            "  predictions_df = predictions_df.append({'Date': today + timedelta(days=i), 'Predicted_Opening_Price': next_day_pred}, ignore_index=True)\n"
          ]
        },
        {
          "output_type": "stream",
          "name": "stdout",
          "text": [
            "1/1 [==============================] - 0s 81ms/step\n",
            "1/1 [==============================] - ETA: 0s"
          ]
        },
        {
          "output_type": "stream",
          "name": "stderr",
          "text": [
            "<ipython-input-146-7d280a18134e>:52: FutureWarning: The frame.append method is deprecated and will be removed from pandas in a future version. Use pandas.concat instead.\n",
            "  predictions_df = predictions_df.append({'Date': today + timedelta(days=i), 'Predicted_Opening_Price': next_day_pred}, ignore_index=True)\n"
          ]
        },
        {
          "output_type": "stream",
          "name": "stdout",
          "text": [
            "\b\b\b\b\b\b\b\b\b\b\b\b\b\b\b\b\b\b\b\b\b\b\b\b\b\b\b\b\b\b\b\b\b\b\b\b\b\b\b\b\b\b\b\b\b\b\r1/1 [==============================] - 0s 76ms/step\n"
          ]
        },
        {
          "output_type": "stream",
          "name": "stderr",
          "text": [
            "<ipython-input-146-7d280a18134e>:52: FutureWarning: The frame.append method is deprecated and will be removed from pandas in a future version. Use pandas.concat instead.\n",
            "  predictions_df = predictions_df.append({'Date': today + timedelta(days=i), 'Predicted_Opening_Price': next_day_pred}, ignore_index=True)\n"
          ]
        },
        {
          "output_type": "stream",
          "name": "stdout",
          "text": [
            "1/1 [==============================] - 0s 85ms/step\n"
          ]
        },
        {
          "output_type": "stream",
          "name": "stderr",
          "text": [
            "<ipython-input-146-7d280a18134e>:52: FutureWarning: The frame.append method is deprecated and will be removed from pandas in a future version. Use pandas.concat instead.\n",
            "  predictions_df = predictions_df.append({'Date': today + timedelta(days=i), 'Predicted_Opening_Price': next_day_pred}, ignore_index=True)\n"
          ]
        },
        {
          "output_type": "stream",
          "name": "stdout",
          "text": [
            "1/1 [==============================] - 0s 81ms/step\n",
            "1/1 [==============================] - ETA: 0s"
          ]
        },
        {
          "output_type": "stream",
          "name": "stderr",
          "text": [
            "<ipython-input-146-7d280a18134e>:52: FutureWarning: The frame.append method is deprecated and will be removed from pandas in a future version. Use pandas.concat instead.\n",
            "  predictions_df = predictions_df.append({'Date': today + timedelta(days=i), 'Predicted_Opening_Price': next_day_pred}, ignore_index=True)\n"
          ]
        },
        {
          "output_type": "stream",
          "name": "stdout",
          "text": [
            "1/1 [==============================] - 0s 78ms/step\n",
            "1/1 [==============================] - ETA: 0s"
          ]
        },
        {
          "output_type": "stream",
          "name": "stderr",
          "text": [
            "<ipython-input-146-7d280a18134e>:52: FutureWarning: The frame.append method is deprecated and will be removed from pandas in a future version. Use pandas.concat instead.\n",
            "  predictions_df = predictions_df.append({'Date': today + timedelta(days=i), 'Predicted_Opening_Price': next_day_pred}, ignore_index=True)\n"
          ]
        },
        {
          "output_type": "stream",
          "name": "stdout",
          "text": [
            "\b\b\b\b\b\b\b\b\b\b\b\b\b\b\b\b\b\b\b\b\b\b\b\b\b\b\b\b\b\b\b\b\b\b\b\b\b\b\b\b\b\b\b\b\b\b\r1/1 [==============================] - 0s 77ms/step\n"
          ]
        },
        {
          "output_type": "stream",
          "name": "stderr",
          "text": [
            "<ipython-input-146-7d280a18134e>:52: FutureWarning: The frame.append method is deprecated and will be removed from pandas in a future version. Use pandas.concat instead.\n",
            "  predictions_df = predictions_df.append({'Date': today + timedelta(days=i), 'Predicted_Opening_Price': next_day_pred}, ignore_index=True)\n"
          ]
        },
        {
          "output_type": "stream",
          "name": "stdout",
          "text": [
            "1/1 [==============================] - 0s 93ms/step\n",
            "1/1 [==============================] - 0s 46ms/step\n"
          ]
        },
        {
          "output_type": "stream",
          "name": "stderr",
          "text": [
            "<ipython-input-146-7d280a18134e>:52: FutureWarning: The frame.append method is deprecated and will be removed from pandas in a future version. Use pandas.concat instead.\n",
            "  predictions_df = predictions_df.append({'Date': today + timedelta(days=i), 'Predicted_Opening_Price': next_day_pred}, ignore_index=True)\n",
            "<ipython-input-146-7d280a18134e>:52: FutureWarning: The frame.append method is deprecated and will be removed from pandas in a future version. Use pandas.concat instead.\n",
            "  predictions_df = predictions_df.append({'Date': today + timedelta(days=i), 'Predicted_Opening_Price': next_day_pred}, ignore_index=True)\n"
          ]
        },
        {
          "output_type": "stream",
          "name": "stdout",
          "text": [
            "1/1 [==============================] - 0s 39ms/step\n",
            "1/1 [==============================] - 0s 41ms/step\n"
          ]
        },
        {
          "output_type": "stream",
          "name": "stderr",
          "text": [
            "<ipython-input-146-7d280a18134e>:52: FutureWarning: The frame.append method is deprecated and will be removed from pandas in a future version. Use pandas.concat instead.\n",
            "  predictions_df = predictions_df.append({'Date': today + timedelta(days=i), 'Predicted_Opening_Price': next_day_pred}, ignore_index=True)\n",
            "<ipython-input-146-7d280a18134e>:52: FutureWarning: The frame.append method is deprecated and will be removed from pandas in a future version. Use pandas.concat instead.\n",
            "  predictions_df = predictions_df.append({'Date': today + timedelta(days=i), 'Predicted_Opening_Price': next_day_pred}, ignore_index=True)\n"
          ]
        },
        {
          "output_type": "stream",
          "name": "stdout",
          "text": [
            "1/1 [==============================] - 0s 44ms/step\n",
            "1/1 [==============================] - 0s 40ms/step\n"
          ]
        },
        {
          "output_type": "stream",
          "name": "stderr",
          "text": [
            "<ipython-input-146-7d280a18134e>:52: FutureWarning: The frame.append method is deprecated and will be removed from pandas in a future version. Use pandas.concat instead.\n",
            "  predictions_df = predictions_df.append({'Date': today + timedelta(days=i), 'Predicted_Opening_Price': next_day_pred}, ignore_index=True)\n",
            "<ipython-input-146-7d280a18134e>:52: FutureWarning: The frame.append method is deprecated and will be removed from pandas in a future version. Use pandas.concat instead.\n",
            "  predictions_df = predictions_df.append({'Date': today + timedelta(days=i), 'Predicted_Opening_Price': next_day_pred}, ignore_index=True)\n"
          ]
        },
        {
          "output_type": "stream",
          "name": "stdout",
          "text": [
            "1/1 [==============================] - 0s 45ms/step\n",
            "1/1 [==============================] - 0s 40ms/step\n"
          ]
        },
        {
          "output_type": "stream",
          "name": "stderr",
          "text": [
            "<ipython-input-146-7d280a18134e>:52: FutureWarning: The frame.append method is deprecated and will be removed from pandas in a future version. Use pandas.concat instead.\n",
            "  predictions_df = predictions_df.append({'Date': today + timedelta(days=i), 'Predicted_Opening_Price': next_day_pred}, ignore_index=True)\n",
            "<ipython-input-146-7d280a18134e>:52: FutureWarning: The frame.append method is deprecated and will be removed from pandas in a future version. Use pandas.concat instead.\n",
            "  predictions_df = predictions_df.append({'Date': today + timedelta(days=i), 'Predicted_Opening_Price': next_day_pred}, ignore_index=True)\n"
          ]
        },
        {
          "output_type": "stream",
          "name": "stdout",
          "text": [
            "1/1 [==============================] - 0s 45ms/step\n",
            "1/1 [==============================] - 0s 41ms/step\n"
          ]
        },
        {
          "output_type": "stream",
          "name": "stderr",
          "text": [
            "<ipython-input-146-7d280a18134e>:52: FutureWarning: The frame.append method is deprecated and will be removed from pandas in a future version. Use pandas.concat instead.\n",
            "  predictions_df = predictions_df.append({'Date': today + timedelta(days=i), 'Predicted_Opening_Price': next_day_pred}, ignore_index=True)\n",
            "<ipython-input-146-7d280a18134e>:52: FutureWarning: The frame.append method is deprecated and will be removed from pandas in a future version. Use pandas.concat instead.\n",
            "  predictions_df = predictions_df.append({'Date': today + timedelta(days=i), 'Predicted_Opening_Price': next_day_pred}, ignore_index=True)\n"
          ]
        },
        {
          "output_type": "stream",
          "name": "stdout",
          "text": [
            "1/1 [==============================] - 0s 47ms/step\n",
            "1/1 [==============================] - 0s 41ms/step\n"
          ]
        },
        {
          "output_type": "stream",
          "name": "stderr",
          "text": [
            "<ipython-input-146-7d280a18134e>:52: FutureWarning: The frame.append method is deprecated and will be removed from pandas in a future version. Use pandas.concat instead.\n",
            "  predictions_df = predictions_df.append({'Date': today + timedelta(days=i), 'Predicted_Opening_Price': next_day_pred}, ignore_index=True)\n",
            "<ipython-input-146-7d280a18134e>:52: FutureWarning: The frame.append method is deprecated and will be removed from pandas in a future version. Use pandas.concat instead.\n",
            "  predictions_df = predictions_df.append({'Date': today + timedelta(days=i), 'Predicted_Opening_Price': next_day_pred}, ignore_index=True)\n"
          ]
        },
        {
          "output_type": "stream",
          "name": "stdout",
          "text": [
            "1/1 [==============================] - 0s 42ms/step\n",
            "1/1 [==============================] - 0s 42ms/step\n"
          ]
        },
        {
          "output_type": "stream",
          "name": "stderr",
          "text": [
            "<ipython-input-146-7d280a18134e>:52: FutureWarning: The frame.append method is deprecated and will be removed from pandas in a future version. Use pandas.concat instead.\n",
            "  predictions_df = predictions_df.append({'Date': today + timedelta(days=i), 'Predicted_Opening_Price': next_day_pred}, ignore_index=True)\n",
            "<ipython-input-146-7d280a18134e>:52: FutureWarning: The frame.append method is deprecated and will be removed from pandas in a future version. Use pandas.concat instead.\n",
            "  predictions_df = predictions_df.append({'Date': today + timedelta(days=i), 'Predicted_Opening_Price': next_day_pred}, ignore_index=True)\n"
          ]
        },
        {
          "output_type": "stream",
          "name": "stdout",
          "text": [
            "1/1 [==============================] - 0s 52ms/step\n",
            "1/1 [==============================] - 0s 41ms/step\n",
            "1/1 [==============================] - 0s 30ms/step\n"
          ]
        },
        {
          "output_type": "stream",
          "name": "stderr",
          "text": [
            "<ipython-input-146-7d280a18134e>:52: FutureWarning: The frame.append method is deprecated and will be removed from pandas in a future version. Use pandas.concat instead.\n",
            "  predictions_df = predictions_df.append({'Date': today + timedelta(days=i), 'Predicted_Opening_Price': next_day_pred}, ignore_index=True)\n",
            "<ipython-input-146-7d280a18134e>:52: FutureWarning: The frame.append method is deprecated and will be removed from pandas in a future version. Use pandas.concat instead.\n",
            "  predictions_df = predictions_df.append({'Date': today + timedelta(days=i), 'Predicted_Opening_Price': next_day_pred}, ignore_index=True)\n",
            "<ipython-input-146-7d280a18134e>:52: FutureWarning: The frame.append method is deprecated and will be removed from pandas in a future version. Use pandas.concat instead.\n",
            "  predictions_df = predictions_df.append({'Date': today + timedelta(days=i), 'Predicted_Opening_Price': next_day_pred}, ignore_index=True)\n"
          ]
        },
        {
          "output_type": "stream",
          "name": "stdout",
          "text": [
            "1/1 [==============================] - 0s 31ms/step\n",
            "1/1 [==============================] - 0s 25ms/step\n"
          ]
        },
        {
          "output_type": "stream",
          "name": "stderr",
          "text": [
            "<ipython-input-146-7d280a18134e>:52: FutureWarning: The frame.append method is deprecated and will be removed from pandas in a future version. Use pandas.concat instead.\n",
            "  predictions_df = predictions_df.append({'Date': today + timedelta(days=i), 'Predicted_Opening_Price': next_day_pred}, ignore_index=True)\n",
            "<ipython-input-146-7d280a18134e>:52: FutureWarning: The frame.append method is deprecated and will be removed from pandas in a future version. Use pandas.concat instead.\n",
            "  predictions_df = predictions_df.append({'Date': today + timedelta(days=i), 'Predicted_Opening_Price': next_day_pred}, ignore_index=True)\n"
          ]
        },
        {
          "output_type": "execute_result",
          "data": {
            "text/plain": [
              "<bound method NDFrame.head of                          Date  Predicted_Opening_Price\n",
              "0  2023-11-15 20:28:23.779320               181.501984\n",
              "1  2023-11-16 20:28:23.779320               179.725174\n",
              "2  2023-11-17 20:28:23.779320               179.002655\n",
              "3  2023-11-18 20:28:23.779320               178.709320\n",
              "4  2023-11-19 20:28:23.779320               178.590332\n",
              "5  2023-11-20 20:28:23.779320               178.542084\n",
              "6  2023-11-21 20:28:23.779320               178.522522\n",
              "7  2023-11-22 20:28:23.779320               178.514587\n",
              "8  2023-11-23 20:28:23.779320               178.511368\n",
              "9  2023-11-24 20:28:23.779320               178.510040\n",
              "10 2023-11-25 20:28:23.779320               178.509537\n",
              "11 2023-11-26 20:28:23.779320               178.509323\n",
              "12 2023-11-27 20:28:23.779320               178.509247\n",
              "13 2023-11-28 20:28:23.779320               178.509186\n",
              "14 2023-11-29 20:28:23.779320               178.509186\n",
              "15 2023-11-30 20:28:23.779320               178.509186\n",
              "16 2023-12-01 20:28:23.779320               178.509186\n",
              "17 2023-12-02 20:28:23.779320               178.509186\n",
              "18 2023-12-03 20:28:23.779320               178.509186\n",
              "19 2023-12-04 20:28:23.779320               178.509186\n",
              "20 2023-12-05 20:28:23.779320               178.509186\n",
              "21 2023-12-06 20:28:23.779320               178.509186\n",
              "22 2023-12-07 20:28:23.779320               178.509186\n",
              "23 2023-12-08 20:28:23.779320               178.509186\n",
              "24 2023-12-09 20:28:23.779320               178.509186\n",
              "25 2023-12-10 20:28:23.779320               178.509186\n",
              "26 2023-12-11 20:28:23.779320               178.509186\n",
              "27 2023-12-12 20:28:23.779320               178.509186\n",
              "28 2023-12-13 20:28:23.779320               178.509186\n",
              "29 2023-12-14 20:28:23.779320               178.509186\n",
              "30 2023-12-15 20:28:23.779320               178.509186\n",
              "31 2023-12-16 20:28:23.779320               178.509186\n",
              "32 2023-12-17 20:28:23.779320               178.509186\n",
              "33 2023-12-18 20:28:23.779320               178.509186\n",
              "34 2023-12-19 20:28:23.779320               178.509186\n",
              "35 2023-12-20 20:28:23.779320               178.509186\n",
              "36 2023-12-21 20:28:23.779320               178.509186\n",
              "37 2023-12-22 20:28:23.779320               178.509186\n",
              "38 2023-12-23 20:28:23.779320               178.509186\n",
              "39 2023-12-24 20:28:23.779320               178.509186\n",
              "40 2023-12-25 20:28:23.779320               178.509186\n",
              "41 2023-12-26 20:28:23.779320               178.509186\n",
              "42 2023-12-27 20:28:23.779320               178.509186\n",
              "43 2023-12-28 20:28:23.779320               178.509186\n",
              "44 2023-12-29 20:28:23.779320               178.509186\n",
              "45 2023-12-30 20:28:23.779320               178.509186>"
            ]
          },
          "metadata": {},
          "execution_count": 146
        }
      ]
    },
    {
      "cell_type": "code",
      "source": [
        "!jupyter nbconvert --to html 2 - Opening_Price_Prediction_keras.ipynb\n"
      ],
      "metadata": {
        "colab": {
          "base_uri": "https://localhost:8080/",
          "height": 0
        },
        "id": "yidU95IMrOqY",
        "outputId": "43466304-95a1-4324-bf18-2335d6b66e3e"
      },
      "execution_count": 148,
      "outputs": [
        {
          "output_type": "stream",
          "name": "stdout",
          "text": [
            "[NbConvertApp] WARNING | pattern '2' matched no files\n",
            "[NbConvertApp] WARNING | pattern '-' matched no files\n",
            "[NbConvertApp] WARNING | pattern 'Opening_Price_Prediction_keras.ipynb' matched no files\n",
            "This application is used to convert notebook files (*.ipynb)\n",
            "        to various other formats.\n",
            "\n",
            "        WARNING: THE COMMANDLINE INTERFACE MAY CHANGE IN FUTURE RELEASES.\n",
            "\n",
            "Options\n",
            "=======\n",
            "The options below are convenience aliases to configurable class-options,\n",
            "as listed in the \"Equivalent to\" description-line of the aliases.\n",
            "To see all configurable class-options for some <cmd>, use:\n",
            "    <cmd> --help-all\n",
            "\n",
            "--debug\n",
            "    set log level to logging.DEBUG (maximize logging output)\n",
            "    Equivalent to: [--Application.log_level=10]\n",
            "--show-config\n",
            "    Show the application's configuration (human-readable format)\n",
            "    Equivalent to: [--Application.show_config=True]\n",
            "--show-config-json\n",
            "    Show the application's configuration (json format)\n",
            "    Equivalent to: [--Application.show_config_json=True]\n",
            "--generate-config\n",
            "    generate default config file\n",
            "    Equivalent to: [--JupyterApp.generate_config=True]\n",
            "-y\n",
            "    Answer yes to any questions instead of prompting.\n",
            "    Equivalent to: [--JupyterApp.answer_yes=True]\n",
            "--execute\n",
            "    Execute the notebook prior to export.\n",
            "    Equivalent to: [--ExecutePreprocessor.enabled=True]\n",
            "--allow-errors\n",
            "    Continue notebook execution even if one of the cells throws an error and include the error message in the cell output (the default behaviour is to abort conversion). This flag is only relevant if '--execute' was specified, too.\n",
            "    Equivalent to: [--ExecutePreprocessor.allow_errors=True]\n",
            "--stdin\n",
            "    read a single notebook file from stdin. Write the resulting notebook with default basename 'notebook.*'\n",
            "    Equivalent to: [--NbConvertApp.from_stdin=True]\n",
            "--stdout\n",
            "    Write notebook output to stdout instead of files.\n",
            "    Equivalent to: [--NbConvertApp.writer_class=StdoutWriter]\n",
            "--inplace\n",
            "    Run nbconvert in place, overwriting the existing notebook (only\n",
            "            relevant when converting to notebook format)\n",
            "    Equivalent to: [--NbConvertApp.use_output_suffix=False --NbConvertApp.export_format=notebook --FilesWriter.build_directory=]\n",
            "--clear-output\n",
            "    Clear output of current file and save in place,\n",
            "            overwriting the existing notebook.\n",
            "    Equivalent to: [--NbConvertApp.use_output_suffix=False --NbConvertApp.export_format=notebook --FilesWriter.build_directory= --ClearOutputPreprocessor.enabled=True]\n",
            "--no-prompt\n",
            "    Exclude input and output prompts from converted document.\n",
            "    Equivalent to: [--TemplateExporter.exclude_input_prompt=True --TemplateExporter.exclude_output_prompt=True]\n",
            "--no-input\n",
            "    Exclude input cells and output prompts from converted document.\n",
            "            This mode is ideal for generating code-free reports.\n",
            "    Equivalent to: [--TemplateExporter.exclude_output_prompt=True --TemplateExporter.exclude_input=True --TemplateExporter.exclude_input_prompt=True]\n",
            "--allow-chromium-download\n",
            "    Whether to allow downloading chromium if no suitable version is found on the system.\n",
            "    Equivalent to: [--WebPDFExporter.allow_chromium_download=True]\n",
            "--disable-chromium-sandbox\n",
            "    Disable chromium security sandbox when converting to PDF..\n",
            "    Equivalent to: [--WebPDFExporter.disable_sandbox=True]\n",
            "--show-input\n",
            "    Shows code input. This flag is only useful for dejavu users.\n",
            "    Equivalent to: [--TemplateExporter.exclude_input=False]\n",
            "--embed-images\n",
            "    Embed the images as base64 dataurls in the output. This flag is only useful for the HTML/WebPDF/Slides exports.\n",
            "    Equivalent to: [--HTMLExporter.embed_images=True]\n",
            "--sanitize-html\n",
            "    Whether the HTML in Markdown cells and cell outputs should be sanitized..\n",
            "    Equivalent to: [--HTMLExporter.sanitize_html=True]\n",
            "--log-level=<Enum>\n",
            "    Set the log level by value or name.\n",
            "    Choices: any of [0, 10, 20, 30, 40, 50, 'DEBUG', 'INFO', 'WARN', 'ERROR', 'CRITICAL']\n",
            "    Default: 30\n",
            "    Equivalent to: [--Application.log_level]\n",
            "--config=<Unicode>\n",
            "    Full path of a config file.\n",
            "    Default: ''\n",
            "    Equivalent to: [--JupyterApp.config_file]\n",
            "--to=<Unicode>\n",
            "    The export format to be used, either one of the built-in formats\n",
            "            ['asciidoc', 'custom', 'html', 'latex', 'markdown', 'notebook', 'pdf', 'python', 'rst', 'script', 'slides', 'webpdf']\n",
            "            or a dotted object name that represents the import path for an\n",
            "            ``Exporter`` class\n",
            "    Default: ''\n",
            "    Equivalent to: [--NbConvertApp.export_format]\n",
            "--template=<Unicode>\n",
            "    Name of the template to use\n",
            "    Default: ''\n",
            "    Equivalent to: [--TemplateExporter.template_name]\n",
            "--template-file=<Unicode>\n",
            "    Name of the template file to use\n",
            "    Default: None\n",
            "    Equivalent to: [--TemplateExporter.template_file]\n",
            "--theme=<Unicode>\n",
            "    Template specific theme(e.g. the name of a JupyterLab CSS theme distributed\n",
            "    as prebuilt extension for the lab template)\n",
            "    Default: 'light'\n",
            "    Equivalent to: [--HTMLExporter.theme]\n",
            "--sanitize_html=<Bool>\n",
            "    Whether the HTML in Markdown cells and cell outputs should be sanitized.This\n",
            "    should be set to True by nbviewer or similar tools.\n",
            "    Default: False\n",
            "    Equivalent to: [--HTMLExporter.sanitize_html]\n",
            "--writer=<DottedObjectName>\n",
            "    Writer class used to write the\n",
            "                                        results of the conversion\n",
            "    Default: 'FilesWriter'\n",
            "    Equivalent to: [--NbConvertApp.writer_class]\n",
            "--post=<DottedOrNone>\n",
            "    PostProcessor class used to write the\n",
            "                                        results of the conversion\n",
            "    Default: ''\n",
            "    Equivalent to: [--NbConvertApp.postprocessor_class]\n",
            "--output=<Unicode>\n",
            "    overwrite base name use for output files.\n",
            "                can only be used when converting one notebook at a time.\n",
            "    Default: ''\n",
            "    Equivalent to: [--NbConvertApp.output_base]\n",
            "--output-dir=<Unicode>\n",
            "    Directory to write output(s) to. Defaults\n",
            "                                  to output to the directory of each notebook. To recover\n",
            "                                  previous default behaviour (outputting to the current\n",
            "                                  working directory) use . as the flag value.\n",
            "    Default: ''\n",
            "    Equivalent to: [--FilesWriter.build_directory]\n",
            "--reveal-prefix=<Unicode>\n",
            "    The URL prefix for reveal.js (version 3.x).\n",
            "            This defaults to the reveal CDN, but can be any url pointing to a copy\n",
            "            of reveal.js.\n",
            "            For speaker notes to work, this must be a relative path to a local\n",
            "            copy of reveal.js: e.g., \"reveal.js\".\n",
            "            If a relative path is given, it must be a subdirectory of the\n",
            "            current directory (from which the server is run).\n",
            "            See the usage documentation\n",
            "            (https://nbconvert.readthedocs.io/en/latest/usage.html#reveal-js-html-slideshow)\n",
            "            for more details.\n",
            "    Default: ''\n",
            "    Equivalent to: [--SlidesExporter.reveal_url_prefix]\n",
            "--nbformat=<Enum>\n",
            "    The nbformat version to write.\n",
            "            Use this to downgrade notebooks.\n",
            "    Choices: any of [1, 2, 3, 4]\n",
            "    Default: 4\n",
            "    Equivalent to: [--NotebookExporter.nbformat_version]\n",
            "\n",
            "Examples\n",
            "--------\n",
            "\n",
            "    The simplest way to use nbconvert is\n",
            "\n",
            "            > jupyter nbconvert mynotebook.ipynb --to html\n",
            "\n",
            "            Options include ['asciidoc', 'custom', 'html', 'latex', 'markdown', 'notebook', 'pdf', 'python', 'rst', 'script', 'slides', 'webpdf'].\n",
            "\n",
            "            > jupyter nbconvert --to latex mynotebook.ipynb\n",
            "\n",
            "            Both HTML and LaTeX support multiple output templates. LaTeX includes\n",
            "            'base', 'article' and 'report'.  HTML includes 'basic', 'lab' and\n",
            "            'classic'. You can specify the flavor of the format used.\n",
            "\n",
            "            > jupyter nbconvert --to html --template lab mynotebook.ipynb\n",
            "\n",
            "            You can also pipe the output to stdout, rather than a file\n",
            "\n",
            "            > jupyter nbconvert mynotebook.ipynb --stdout\n",
            "\n",
            "            PDF is generated via latex\n",
            "\n",
            "            > jupyter nbconvert mynotebook.ipynb --to pdf\n",
            "\n",
            "            You can get (and serve) a Reveal.js-powered slideshow\n",
            "\n",
            "            > jupyter nbconvert myslides.ipynb --to slides --post serve\n",
            "\n",
            "            Multiple notebooks can be given at the command line in a couple of\n",
            "            different ways:\n",
            "\n",
            "            > jupyter nbconvert notebook*.ipynb\n",
            "            > jupyter nbconvert notebook1.ipynb notebook2.ipynb\n",
            "\n",
            "            or you can specify the notebooks list in a config file, containing::\n",
            "\n",
            "                c.NbConvertApp.notebooks = [\"my_notebook.ipynb\"]\n",
            "\n",
            "            > jupyter nbconvert --config mycfg.py\n",
            "\n",
            "To see all available configurables, use `--help-all`.\n",
            "\n"
          ]
        }
      ]
    },
    {
      "cell_type": "code",
      "source": [
        "# from google.colab import drive\n",
        "\n",
        "# # Mount Google Drive\n",
        "# drive.mount('/content/drive')\n",
        "\n",
        "# # Define the output directory in Google Drive\n",
        "# output_dir = '/content/drive/MyDrive/ML/'\n",
        "\n",
        "# # Path to your Jupyter notebook\n",
        "# notebook_path = '/content/drive/MyDrive/ML/Combined_Stock_Price_Prediction_and_Returns_Generation.ipynb' # Replace with the path to your notebook\n",
        "\n",
        "# # Run nbconvert to convert the notebook to HTML with only outputs\n",
        "# !jupyter nbconvert --no-input --to html \"$notebook_path\" --output-dir \"$output_dir\"\n",
        "\n",
        "# # The HTML file is now saved in the specified Google Drive directory\n"
      ],
      "metadata": {
        "colab": {
          "base_uri": "https://localhost:8080/"
        },
        "id": "Mew90M4csND5",
        "outputId": "eb9c77b7-90c5-4f6f-dd11-ae9898473153"
      },
      "execution_count": 152,
      "outputs": [
        {
          "output_type": "stream",
          "name": "stdout",
          "text": [
            "Drive already mounted at /content/drive; to attempt to forcibly remount, call drive.mount(\"/content/drive\", force_remount=True).\n",
            "[NbConvertApp] Converting notebook /content/drive/MyDrive/ML/Combined_Stock_Price_Prediction_and_Returns_Generation.ipynb to html\n",
            "[NbConvertApp] Writing 574450 bytes to /content/drive/MyDrive/ML/Combined_Stock_Price_Prediction_and_Returns_Generation.html\n"
          ]
        }
      ]
    }
  ]
}